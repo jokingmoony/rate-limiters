{
 "cells": [
  {
   "cell_type": "code",
   "execution_count": 1,
   "id": "21c1e117",
   "metadata": {},
   "outputs": [
    {
     "name": "stdout",
     "output_type": "stream",
     "text": [
      "231402/ request processed\n",
      "231402/ request processed\n",
      "231402/ request processed\n",
      "231402/ request processed\n",
      "231402/ request processed\n",
      "231402/ request processed\n",
      "231402/ request processed\n",
      "231402/ request processed\n",
      "231402/ request processed\n",
      "231402/ request processed\n",
      "231403/ request processed\n",
      "231403/ request processed\n",
      "231403/ request processed\n",
      "231403/ request processed\n",
      "231403/ request processed\n",
      "231403/ request processed\n",
      "231403/ request processed\n",
      "231403/ request processed\n",
      "231403/ request processed\n",
      "231403/ request processed\n",
      "231404/ request processed\n",
      "231404/ request processed\n",
      "231404/ request processed\n",
      "231404/ request processed\n",
      "231404/ request processed\n",
      "231404/ request processed\n",
      "231404/ request processed\n",
      "231404/ request processed\n",
      "231404/ request processed\n",
      "231404/ request processed\n",
      "231405/ request processed\n",
      "231405/ request processed\n",
      "231405/ request processed\n",
      "231405/ request processed\n",
      "231405/ request processed\n",
      "231405/ request processed\n",
      "231405/ request processed\n",
      "231405/ request processed\n",
      "231405/ request processed\n",
      "231405/ request processed\n",
      "231406/ request processed\n",
      "231406/ request processed\n",
      "231406/ request processed\n",
      "231406/ request processed\n",
      "231406/ request processed\n",
      "231406/ request processed\n",
      "231406/ request processed\n",
      "231406/ request processed\n",
      "231406/ request processed\n",
      "231406/ request processed\n"
     ]
    }
   ],
   "source": [
    "from threading import Thread, Lock\n",
    "from datetime import datetime\n",
    "import time\n",
    "import sys\n",
    "\n",
    "BUCKET_CAPACITY = 10\n",
    "bucket = [1] * BUCKET_CAPACITY\n",
    "\n",
    "BUCKET_FILL_AMOUNT = 5\n",
    "REQUEST_PER_SEC = 20\n",
    "\n",
    "lock = Lock()\n",
    "\n",
    "def fill_bucket():\n",
    "    global bucket\n",
    "    with lock:\n",
    "        bucket = [1] * BUCKET_CAPACITY\n",
    "    \n",
    "def can_allow_request():\n",
    "    global bucket\n",
    "    with lock:\n",
    "        if len(bucket) <= 0:\n",
    "            return False\n",
    "        bucket.pop()\n",
    "        return True\n",
    "    \n",
    "def fill_bucket_in_time_window():\n",
    "    while True:\n",
    "        time.sleep(1 / BUCKET_FILLED_PER_SEC)\n",
    "        fill_bucket()\n",
    "\n",
    "def request_in_sec():\n",
    "    while True:\n",
    "        time.sleep(1 / REQUEST_PER_SEC)\n",
    "        if can_allow_request():\n",
    "            print(f'{datetime.now():%H%M%S}/ request processed')\n",
    "\n",
    "\n",
    "request_thread = Thread(target=request_in_sec)\n",
    "request_thread.start()\n",
    "\n",
    "fill_bucket_thread = Thread(target=fill_bucket_in_time_window)\n",
    "fill_bucket_thread.start()\n",
    "\n"
   ]
  },
  {
   "cell_type": "code",
   "execution_count": null,
   "id": "b6a249ac",
   "metadata": {},
   "outputs": [],
   "source": [
    "import matplotlib.pyplot as plt"
   ]
  },
  {
   "cell_type": "code",
   "execution_count": null,
   "id": "89a59142",
   "metadata": {},
   "outputs": [],
   "source": [
    "import pandas as pd\n",
    "\n",
    "plt.plot([(1,2), (2,3)])\n",
    "plt.show()"
   ]
  },
  {
   "cell_type": "code",
   "execution_count": null,
   "id": "7d6f67f4",
   "metadata": {},
   "outputs": [],
   "source": [
    "a = pd.DataFrame([('1', 2), ('3', 4)])\n",
    "plt.plot(a[a.columns[1]])\n",
    "plt.show()"
   ]
  },
  {
   "cell_type": "code",
   "execution_count": null,
   "id": "c4455165",
   "metadata": {},
   "outputs": [],
   "source": []
  },
  {
   "cell_type": "code",
   "execution_count": null,
   "id": "07bd9554",
   "metadata": {},
   "outputs": [],
   "source": [
    "bucket = []\n",
    "BUCKET_CAPACITY = 10\n",
    "\n",
    "def fill_bucket():\n",
    "    if len(bucket) >= BUCKET_CAPACITY:\n",
    "        return\n",
    "    bucket.extend([1] * (BUCKET_CAPACITY - len(bucket)))\n",
    "\n",
    "def process():\n",
    "    with lock:\n",
    "        if len(bucket) <= 0:\n",
    "            return False\n",
    "        bucket.pop()\n",
    "        return True\n"
   ]
  },
  {
   "cell_type": "code",
   "execution_count": null,
   "id": "cd75466c",
   "metadata": {},
   "outputs": [],
   "source": []
  },
  {
   "cell_type": "code",
   "execution_count": null,
   "id": "ef9c1fd6",
   "metadata": {},
   "outputs": [],
   "source": []
  }
 ],
 "metadata": {
  "kernelspec": {
   "display_name": "Python 3 (ipykernel)",
   "language": "python",
   "name": "python3"
  },
  "language_info": {
   "codemirror_mode": {
    "name": "ipython",
    "version": 3
   },
   "file_extension": ".py",
   "mimetype": "text/x-python",
   "name": "python",
   "nbconvert_exporter": "python",
   "pygments_lexer": "ipython3",
   "version": "3.9.12"
  }
 },
 "nbformat": 4,
 "nbformat_minor": 5
}
