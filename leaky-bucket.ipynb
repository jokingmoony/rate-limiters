{
 "cells": [
  {
   "cell_type": "code",
   "execution_count": null,
   "id": "81ec76e5",
   "metadata": {},
   "outputs": [],
   "source": [
    "from collections import deque\n",
    "from threading import Lock\n",
    "from datetime import datetime\n",
    "from threading import Thread\n",
    "import time\n",
    "import sys\n",
    "\n",
    "lock = Lock()\n",
    "queue = deque()\n",
    "BUCKET_CAPACITY = 100\n",
    "LEAK_PER_SEC = 3\n",
    "REQUEST_PER_SEC = 10\n",
    "\n",
    "def process():\n",
    "    if not len(queue):\n",
    "        return None\n",
    "    \n",
    "    with lock:\n",
    "        return queue.popleft()\n",
    "        \n",
    "\n",
    "def process_in_seq():\n",
    "    while True:\n",
    "        time.sleep(1 / LEAK_PER_SEC)\n",
    "        res = process()\n",
    "        if res:\n",
    "            print(f'{datetime.now():%H%M%S}/ request processed', res)\n",
    "        else:\n",
    "            print(f'{datetime.now()}/ nothing to process', file=sys.stderr)\n",
    "\n",
    "\n",
    "def request():\n",
    "    if len(queue) >= BUCKET_CAPACITY:\n",
    "        return False\n",
    "    with lock:\n",
    "        queue.append(datetime.now())\n",
    "        return True\n",
    "        \n",
    "def request_in_seq():\n",
    "    while True:\n",
    "        time.sleep(1 / REQUEST_PER_SEC)\n",
    "        res = request()\n",
    "        if res:\n",
    "            print(f'{datetime.now()}/ request success', file=sys.stderr)\n",
    "        else:\n",
    "            print(f'{datetime.now()}/ request failed', file=sys.stderr)\n",
    "            \n",
    "\n",
    "process_thread = Thread(target=process_in_seq)\n",
    "process_thread.start()\n",
    "\n",
    "request_thread = Thread(target=request_in_seq)\n",
    "request_thread.start()"
   ]
  },
  {
   "cell_type": "code",
   "execution_count": null,
   "id": "d6315e25",
   "metadata": {},
   "outputs": [],
   "source": []
  },
  {
   "cell_type": "code",
   "execution_count": null,
   "id": "1b5a918d",
   "metadata": {},
   "outputs": [],
   "source": [
    "from threading import Thread\n",
    "\n"
   ]
  }
 ],
 "metadata": {
  "kernelspec": {
   "display_name": "Python 3 (ipykernel)",
   "language": "python",
   "name": "python3"
  },
  "language_info": {
   "codemirror_mode": {
    "name": "ipython",
    "version": 3
   },
   "file_extension": ".py",
   "mimetype": "text/x-python",
   "name": "python",
   "nbconvert_exporter": "python",
   "pygments_lexer": "ipython3",
   "version": "3.9.12"
  }
 },
 "nbformat": 4,
 "nbformat_minor": 5
}
