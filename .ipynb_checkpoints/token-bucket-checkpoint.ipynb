{
 "cells": [
  {
   "cell_type": "code",
   "execution_count": 1,
   "id": "21c1e117",
   "metadata": {},
   "outputs": [
    {
     "name": "stdout",
     "output_type": "stream",
     "text": [
      "2022-11-04 23:11:49.339890/ request processed\n",
      "2022-11-04 23:11:49.395760/ request processed\n",
      "2022-11-04 23:11:49.448989/ request processed\n",
      "2022-11-04 23:11:49.504263/ request processed\n",
      "2022-11-04 23:11:49.559531/ request processed\n",
      "2022-11-04 23:11:49.614746/ request processed\n",
      "2022-11-04 23:11:49.668972/ request processed\n",
      "2022-11-04 23:11:49.724173/ request processed\n",
      "2022-11-04 23:11:49.777724/ request processed\n",
      "2022-11-04 23:11:49.832961/ request processed\n"
     ]
    },
    {
     "name": "stderr",
     "output_type": "stream",
     "text": [
      "2022-11-04 23:11:49.888239/ request failed\n",
      "2022-11-04 23:11:49.942367/ request failed\n",
      "2022-11-04 23:11:49.996127/ request failed\n",
      "2022-11-04 23:11:50.050174/ request failed\n",
      "2022-11-04 23:11:50.102154/ request failed\n",
      "2022-11-04 23:11:50.156403/ request failed\n",
      "2022-11-04 23:11:50.211651/ request failed\n",
      "2022-11-04 23:11:50.266850/ request failed\n",
      "2022-11-04 23:11:50.292404/ bucket filled\n"
     ]
    },
    {
     "name": "stdout",
     "output_type": "stream",
     "text": [
      "2022-11-04 23:11:50.322048/ request processed\n",
      "2022-11-04 23:11:50.377297/ request processed\n",
      "2022-11-04 23:11:50.432591/ request processed\n",
      "2022-11-04 23:11:50.486120/ request processed\n",
      "2022-11-04 23:11:50.537428/ request processed\n",
      "2022-11-04 23:11:50.588341/ request processed\n",
      "2022-11-04 23:11:50.643660/ request processed\n",
      "2022-11-04 23:11:50.697550/ request processed\n",
      "2022-11-04 23:11:50.752089/ request processed\n",
      "2022-11-04 23:11:50.807347/ request processed\n"
     ]
    },
    {
     "name": "stderr",
     "output_type": "stream",
     "text": [
      "2022-11-04 23:11:50.860172/ request failed\n",
      "2022-11-04 23:11:50.915408/ request failed\n",
      "2022-11-04 23:11:50.969650/ request failed\n",
      "2022-11-04 23:11:51.023124/ request failed\n",
      "2022-11-04 23:11:51.075902/ request failed\n",
      "2022-11-04 23:11:51.126881/ request failed\n",
      "2022-11-04 23:11:51.182183/ request failed\n",
      "2022-11-04 23:11:51.237403/ request failed\n",
      "2022-11-04 23:11:51.292612/ request failed\n",
      "2022-11-04 23:11:51.297982/ bucket filled\n"
     ]
    },
    {
     "name": "stdout",
     "output_type": "stream",
     "text": [
      "2022-11-04 23:11:51.347921/ request processed\n",
      "2022-11-04 23:11:51.403211/ request processed\n",
      "2022-11-04 23:11:51.458419/ request processed\n",
      "2022-11-04 23:11:51.509216/ request processed\n",
      "2022-11-04 23:11:51.564447/ request processed\n",
      "2022-11-04 23:11:51.619668/ request processed\n",
      "2022-11-04 23:11:51.674965/ request processed\n",
      "2022-11-04 23:11:51.730242/ request processed\n",
      "2022-11-04 23:11:51.783129/ request processed\n",
      "2022-11-04 23:11:51.835712/ request processed\n"
     ]
    },
    {
     "name": "stderr",
     "output_type": "stream",
     "text": [
      "2022-11-04 23:11:51.890944/ request failed\n",
      "2022-11-04 23:11:51.946166/ request failed\n",
      "2022-11-04 23:11:52.001429/ request failed\n",
      "2022-11-04 23:11:52.052192/ request failed\n",
      "2022-11-04 23:11:52.103006/ request failed\n",
      "2022-11-04 23:11:52.154367/ request failed\n",
      "2022-11-04 23:11:52.209074/ request failed\n",
      "2022-11-04 23:11:52.261165/ request failed\n",
      "2022-11-04 23:11:52.302420/ bucket filled\n"
     ]
    },
    {
     "name": "stdout",
     "output_type": "stream",
     "text": [
      "2022-11-04 23:11:52.314092/ request processed\n",
      "2022-11-04 23:11:52.368127/ request processed\n",
      "2022-11-04 23:11:52.420371/ request processed\n",
      "2022-11-04 23:11:52.475614/ request processed\n",
      "2022-11-04 23:11:52.530888/ request processed\n",
      "2022-11-04 23:11:52.586115/ request processed\n",
      "2022-11-04 23:11:52.641505/ request processed\n",
      "2022-11-04 23:11:52.697050/ request processed\n",
      "2022-11-04 23:11:52.752353/ request processed\n",
      "2022-11-04 23:11:52.805701/ request processed\n"
     ]
    },
    {
     "name": "stderr",
     "output_type": "stream",
     "text": [
      "2022-11-04 23:11:52.860982/ request failed\n",
      "2022-11-04 23:11:52.916205/ request failed\n",
      "2022-11-04 23:11:52.969079/ request failed\n",
      "2022-11-04 23:11:53.024322/ request failed\n",
      "2022-11-04 23:11:53.078748/ request failed\n",
      "2022-11-04 23:11:53.134008/ request failed\n",
      "2022-11-04 23:11:53.189258/ request failed\n",
      "2022-11-04 23:11:53.244499/ request failed\n",
      "2022-11-04 23:11:53.299746/ request failed\n",
      "2022-11-04 23:11:53.307677/ bucket filled\n"
     ]
    },
    {
     "name": "stdout",
     "output_type": "stream",
     "text": [
      "2022-11-04 23:11:53.355012/ request processed\n",
      "2022-11-04 23:11:53.408427/ request processed\n",
      "2022-11-04 23:11:53.463617/ request processed\n",
      "2022-11-04 23:11:53.518855/ request processed\n",
      "2022-11-04 23:11:53.574098/ request processed\n",
      "2022-11-04 23:11:53.626797/ request processed\n",
      "2022-11-04 23:11:53.682041/ request processed\n",
      "2022-11-04 23:11:53.737326/ request processed\n",
      "2022-11-04 23:11:53.790106/ request processed\n",
      "2022-11-04 23:11:53.845355/ request processed\n"
     ]
    },
    {
     "name": "stderr",
     "output_type": "stream",
     "text": [
      "2022-11-04 23:11:53.900614/ request failed\n",
      "2022-11-04 23:11:53.952743/ request failed\n",
      "2022-11-04 23:11:54.007986/ request failed\n",
      "2022-11-04 23:11:54.063214/ request failed\n",
      "2022-11-04 23:11:54.114240/ request failed\n",
      "2022-11-04 23:11:54.169473/ request failed\n",
      "2022-11-04 23:11:54.224698/ request failed\n",
      "2022-11-04 23:11:54.279421/ request failed\n",
      "2022-11-04 23:11:54.312890/ bucket filled\n"
     ]
    }
   ],
   "source": [
    "from threading import Thread, Lock\n",
    "from datetime import datetime\n",
    "import time\n",
    "import sys\n",
    "\n",
    "BUCKET_CAPACITY = 10\n",
    "bucket = [1] * BUCKET_CAPACITY\n",
    "\n",
    "BUCKET_FILLED_PER_SEC = 1\n",
    "REQUEST_PER_SEC = 20\n",
    "\n",
    "lock = Lock()\n",
    "\n",
    "def fill_bucket():\n",
    "    global bucket\n",
    "    with lock:\n",
    "        bucket = [1] * BUCKET_CAPACITY\n",
    "    \n",
    "def can_allow_request():\n",
    "    global bucket\n",
    "    with lock:\n",
    "        if len(bucket) <= 0:\n",
    "            return False\n",
    "        bucket.pop()\n",
    "        return True\n",
    "    \n",
    "def fill_bucket_in_time_window():\n",
    "    while True:\n",
    "        time.sleep(1 / BUCKET_FILLED_PER_SEC)\n",
    "        fill_bucket()\n",
    "\n",
    "def request_in_sec():\n",
    "    while True:\n",
    "        time.sleep(1 / REQUEST_PER_SEC)\n",
    "        if can_allow_request():\n",
    "            print(f'{datetime.now():%H%M%S}/ request processed')\n",
    "\n",
    "\n",
    "request_thread = Thread(target=request_in_sec)\n",
    "request_thread.start()\n",
    "\n",
    "fill_bucket_thread = Thread(target=fill_bucket_in_time_window)\n",
    "fill_bucket_thread.start()\n",
    "\n"
   ]
  },
  {
   "cell_type": "code",
   "execution_count": null,
   "id": "b6a249ac",
   "metadata": {},
   "outputs": [],
   "source": [
    "import matplotlib.pyplot as plt"
   ]
  },
  {
   "cell_type": "code",
   "execution_count": null,
   "id": "89a59142",
   "metadata": {},
   "outputs": [],
   "source": [
    "import pandas as pd\n",
    "\n",
    "plt.plot([(1,2), (2,3)])\n",
    "plt.show()"
   ]
  },
  {
   "cell_type": "code",
   "execution_count": null,
   "id": "7d6f67f4",
   "metadata": {},
   "outputs": [],
   "source": [
    "a = pd.DataFrame([('1', 2), ('3', 4)])\n",
    "plt.plot(a[a.columns[1]])\n",
    "plt.show()"
   ]
  },
  {
   "cell_type": "code",
   "execution_count": null,
   "id": "c4455165",
   "metadata": {},
   "outputs": [],
   "source": []
  },
  {
   "cell_type": "code",
   "execution_count": null,
   "id": "07bd9554",
   "metadata": {},
   "outputs": [],
   "source": [
    "bucket = []\n",
    "BUCKET_CAPACITY = 10\n",
    "\n",
    "def fill_bucket():\n",
    "    if len(bucket) >= BUCKET_CAPACITY:\n",
    "        return\n",
    "    bucket.extend([1] * (BUCKET_CAPACITY - len(bucket)))\n",
    "\n",
    "def process():\n",
    "    with lock:\n",
    "        if len(bucket) <= 0:\n",
    "            return False\n",
    "        bucket.pop()\n",
    "        return True\n"
   ]
  },
  {
   "cell_type": "code",
   "execution_count": null,
   "id": "cd75466c",
   "metadata": {},
   "outputs": [],
   "source": []
  },
  {
   "cell_type": "code",
   "execution_count": null,
   "id": "ef9c1fd6",
   "metadata": {},
   "outputs": [],
   "source": []
  }
 ],
 "metadata": {
  "kernelspec": {
   "display_name": "Python 3 (ipykernel)",
   "language": "python",
   "name": "python3"
  },
  "language_info": {
   "codemirror_mode": {
    "name": "ipython",
    "version": 3
   },
   "file_extension": ".py",
   "mimetype": "text/x-python",
   "name": "python",
   "nbconvert_exporter": "python",
   "pygments_lexer": "ipython3",
   "version": "3.9.12"
  }
 },
 "nbformat": 4,
 "nbformat_minor": 5
}
