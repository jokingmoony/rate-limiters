{
 "cells": [
  {
   "cell_type": "code",
   "execution_count": 1,
   "id": "21c1e117",
   "metadata": {},
   "outputs": [
    {
     "name": "stderr",
     "output_type": "stream",
     "text": [
      "2022-11-02 23:44:42.098231 request failed\n",
      "2022-11-02 23:44:42.149643 request failed\n",
      "2022-11-02 23:44:42.205067 request failed\n",
      "2022-11-02 23:44:42.260491 request failed\n",
      "2022-11-02 23:44:42.315143 request failed\n",
      "2022-11-02 23:44:42.370443 request failed\n",
      "2022-11-02 23:44:42.425870 request failed\n",
      "2022-11-02 23:44:42.477735 request failed\n",
      "2022-11-02 23:44:42.533033 request failed\n",
      "2022-11-02 23:44:42.585065 request failed\n",
      "2022-11-02 23:44:42.640465 request failed\n",
      "2022-11-02 23:44:42.695905 request failed\n",
      "2022-11-02 23:44:42.748363 request failed\n",
      "2022-11-02 23:44:42.801239 request failed\n",
      "2022-11-02 23:44:42.856685 request failed\n",
      "2022-11-02 23:44:42.912105 request failed\n",
      "2022-11-02 23:44:42.967492 request failed\n",
      "2022-11-02 23:44:43.020434 request failed\n",
      "2022-11-02 23:44:43.044754 bucket filled\n"
     ]
    },
    {
     "name": "stdout",
     "output_type": "stream",
     "text": [
      "2022-11-02 23:44:43.075889 request processed\n",
      "2022-11-02 23:44:43.131350 request processed\n",
      "2022-11-02 23:44:43.186757 request processed\n",
      "2022-11-02 23:44:43.242061 request processed\n",
      "2022-11-02 23:44:43.297502 request processed\n",
      "2022-11-02 23:44:43.352407 request processed\n",
      "2022-11-02 23:44:43.407776 request processed\n",
      "2022-11-02 23:44:43.463178 request processed\n",
      "2022-11-02 23:44:43.518555 request processed\n",
      "2022-11-02 23:44:43.573822 request processed\n"
     ]
    },
    {
     "name": "stderr",
     "output_type": "stream",
     "text": [
      "2022-11-02 23:44:43.629251 request failed\n",
      "2022-11-02 23:44:43.681864 request failed\n",
      "2022-11-02 23:44:43.735048 request failed\n",
      "2022-11-02 23:44:43.790296 request failed\n",
      "2022-11-02 23:44:43.843888 request failed\n",
      "2022-11-02 23:44:43.899297 request failed\n",
      "2022-11-02 23:44:43.955197 request failed\n",
      "2022-11-02 23:44:44.010646 request failed\n",
      "2022-11-02 23:44:44.046703 bucket filled\n"
     ]
    },
    {
     "name": "stdout",
     "output_type": "stream",
     "text": [
      "2022-11-02 23:44:44.066538 request processed\n",
      "2022-11-02 23:44:44.117406 request processed\n",
      "2022-11-02 23:44:44.172785 request processed\n",
      "2022-11-02 23:44:44.227225 request processed\n",
      "2022-11-02 23:44:44.282597 request processed\n",
      "2022-11-02 23:44:44.335057 request processed\n",
      "2022-11-02 23:44:44.390486 request processed\n",
      "2022-11-02 23:44:44.446364 request processed\n",
      "2022-11-02 23:44:44.501756 request processed\n",
      "2022-11-02 23:44:44.557045 request processed\n"
     ]
    },
    {
     "name": "stderr",
     "output_type": "stream",
     "text": [
      "2022-11-02 23:44:44.612525 request failed\n",
      "2022-11-02 23:44:44.667960 request failed\n",
      "2022-11-02 23:44:44.723367 request failed\n",
      "2022-11-02 23:44:44.775026 request failed\n",
      "2022-11-02 23:44:44.830434 request failed\n",
      "2022-11-02 23:44:44.885697 request failed\n",
      "2022-11-02 23:44:44.941153 request failed\n",
      "2022-11-02 23:44:44.996628 request failed\n"
     ]
    },
    {
     "name": "stdout",
     "output_type": "stream",
     "text": [
      "2022-11-02 23:44:45.052070 request processed\n",
      "2022-11-02 23:44:45.107668 request processed\n",
      "2022-11-02 23:44:45.163067 request processed\n",
      "2022-11-02 23:44:45.218483 request processed\n"
     ]
    },
    {
     "name": "stderr",
     "output_type": "stream",
     "text": [
      "2022-11-02 23:44:45.051897 bucket filled\n"
     ]
    },
    {
     "name": "stdout",
     "output_type": "stream",
     "text": [
      "2022-11-02 23:44:45.273991 request processed\n",
      "2022-11-02 23:44:45.328516 request processed\n",
      "2022-11-02 23:44:45.383864 request processed\n",
      "2022-11-02 23:44:45.436430 request processed\n",
      "2022-11-02 23:44:45.488460 request processed\n",
      "2022-11-02 23:44:45.543780 request processed\n"
     ]
    },
    {
     "name": "stderr",
     "output_type": "stream",
     "text": [
      "2022-11-02 23:44:45.599161 request failed\n",
      "2022-11-02 23:44:45.654624 request failed\n",
      "2022-11-02 23:44:45.710048 request failed\n",
      "2022-11-02 23:44:45.762326 request failed\n",
      "2022-11-02 23:44:45.813295 request failed\n",
      "2022-11-02 23:44:45.868381 request failed\n",
      "2022-11-02 23:44:45.923806 request failed\n",
      "2022-11-02 23:44:45.977763 request failed\n",
      "2022-11-02 23:44:46.032488 request failed\n",
      "2022-11-02 23:44:46.057243 bucket filled\n"
     ]
    },
    {
     "name": "stdout",
     "output_type": "stream",
     "text": [
      "2022-11-02 23:44:46.087752 request processed\n",
      "2022-11-02 23:44:46.143142 request processed\n",
      "2022-11-02 23:44:46.193541 request processed\n",
      "2022-11-02 23:44:46.244491 request processed\n",
      "2022-11-02 23:44:46.299823 request processed\n",
      "2022-11-02 23:44:46.355143 request processed\n",
      "2022-11-02 23:44:46.410058 request processed\n",
      "2022-11-02 23:44:46.465537 request processed\n",
      "2022-11-02 23:44:46.520455 request processed\n",
      "2022-11-02 23:44:46.575847 request processed\n"
     ]
    },
    {
     "name": "stderr",
     "output_type": "stream",
     "text": [
      "2022-11-02 23:44:46.631304 request failed\n",
      "2022-11-02 23:44:46.686735 request failed\n",
      "2022-11-02 23:44:46.742132 request failed\n",
      "2022-11-02 23:44:46.793370 request failed\n",
      "2022-11-02 23:44:46.848775 request failed\n",
      "2022-11-02 23:44:46.904300 request failed\n",
      "2022-11-02 23:44:46.959778 request failed\n",
      "2022-11-02 23:44:47.015255 request failed\n",
      "2022-11-02 23:44:47.061176 bucket filled\n"
     ]
    },
    {
     "name": "stdout",
     "output_type": "stream",
     "text": [
      "2022-11-02 23:44:47.066498 request processed\n",
      "2022-11-02 23:44:47.118355 request processed\n",
      "2022-11-02 23:44:47.173760 request processed\n",
      "2022-11-02 23:44:47.229187 request processed\n",
      "2022-11-02 23:44:47.283440 request processed\n",
      "2022-11-02 23:44:47.335016 request processed\n",
      "2022-11-02 23:44:47.385988 request processed\n",
      "2022-11-02 23:44:47.441402 request processed\n",
      "2022-11-02 23:44:47.496793 request processed\n",
      "2022-11-02 23:44:47.552102 request processed\n"
     ]
    },
    {
     "name": "stderr",
     "output_type": "stream",
     "text": [
      "2022-11-02 23:44:47.603958 request failed\n",
      "2022-11-02 23:44:47.659417 request failed\n",
      "2022-11-02 23:44:47.711440 request failed\n",
      "2022-11-02 23:44:47.766801 request failed\n",
      "2022-11-02 23:44:47.822186 request failed\n",
      "2022-11-02 23:44:47.877469 request failed\n",
      "2022-11-02 23:44:47.932936 request failed\n",
      "2022-11-02 23:44:47.988380 request failed\n",
      "2022-11-02 23:44:48.043812 request failed\n",
      "2022-11-02 23:44:48.065737 bucket filled\n"
     ]
    },
    {
     "name": "stdout",
     "output_type": "stream",
     "text": [
      "2022-11-02 23:44:48.099181 request processed\n",
      "2022-11-02 23:44:48.154598 request processed\n",
      "2022-11-02 23:44:48.210007 request processed\n",
      "2022-11-02 23:44:48.265615 request processed\n",
      "2022-11-02 23:44:48.320919 request processed\n",
      "2022-11-02 23:44:48.371600 request processed\n",
      "2022-11-02 23:44:48.427017 request processed\n",
      "2022-11-02 23:44:48.477765 request processed\n",
      "2022-11-02 23:44:48.533181 request processed\n",
      "2022-11-02 23:44:48.588515 request processed\n"
     ]
    },
    {
     "name": "stderr",
     "output_type": "stream",
     "text": [
      "2022-11-02 23:44:48.643945 request failed\n",
      "2022-11-02 23:44:48.694539 request failed\n",
      "2022-11-02 23:44:48.749946 request failed\n",
      "2022-11-02 23:44:48.805308 request failed\n",
      "2022-11-02 23:44:48.860710 request failed\n",
      "2022-11-02 23:44:48.911476 request failed\n",
      "2022-11-02 23:44:48.966909 request failed\n",
      "2022-11-02 23:44:49.022345 request failed\n",
      "2022-11-02 23:44:49.068335 bucket filled\n"
     ]
    },
    {
     "name": "stdout",
     "output_type": "stream",
     "text": [
      "2022-11-02 23:44:49.077756 request processed\n",
      "2022-11-02 23:44:49.133070 request processed\n",
      "2022-11-02 23:44:49.183501 request processed\n",
      "2022-11-02 23:44:49.235016 request processed\n",
      "2022-11-02 23:44:49.290389 request processed\n",
      "2022-11-02 23:44:49.345746 request processed\n",
      "2022-11-02 23:44:49.401189 request processed\n",
      "2022-11-02 23:44:49.456621 request processed\n",
      "2022-11-02 23:44:49.510007 request processed\n",
      "2022-11-02 23:44:49.561425 request processed\n"
     ]
    },
    {
     "name": "stderr",
     "output_type": "stream",
     "text": [
      "2022-11-02 23:44:49.616799 request failed\n",
      "2022-11-02 23:44:49.668424 request failed\n",
      "2022-11-02 23:44:49.723826 request failed\n",
      "2022-11-02 23:44:49.777615 request failed\n",
      "2022-11-02 23:44:49.829399 request failed\n",
      "2022-11-02 23:44:49.884757 request failed\n",
      "2022-11-02 23:44:49.938138 request failed\n",
      "2022-11-02 23:44:49.993347 request failed\n",
      "2022-11-02 23:44:50.048768 request failed\n",
      "2022-11-02 23:44:50.073641 bucket filled\n"
     ]
    },
    {
     "name": "stdout",
     "output_type": "stream",
     "text": [
      "2022-11-02 23:44:50.102913 request processed\n",
      "2022-11-02 23:44:50.158312 request processed\n",
      "2022-11-02 23:44:50.211021 request processed\n",
      "2022-11-02 23:44:50.266455 request processed\n",
      "2022-11-02 23:44:50.321792 request processed\n",
      "2022-11-02 23:44:50.376684 request processed\n",
      "2022-11-02 23:44:50.429599 request processed\n",
      "2022-11-02 23:44:50.485011 request processed\n",
      "2022-11-02 23:44:50.536337 request processed\n",
      "2022-11-02 23:44:50.591630 request processed\n"
     ]
    },
    {
     "name": "stderr",
     "output_type": "stream",
     "text": [
      "2022-11-02 23:44:50.647051 request failed\n",
      "2022-11-02 23:44:50.702421 request failed\n",
      "2022-11-02 23:44:50.757834 request failed\n",
      "2022-11-02 23:44:50.813255 request failed\n",
      "2022-11-02 23:44:50.864105 request failed\n",
      "2022-11-02 23:44:50.919438 request failed\n",
      "2022-11-02 23:44:50.970092 request failed\n",
      "2022-11-02 23:44:51.025526 request failed\n",
      "2022-11-02 23:44:51.079061 bucket filled\n"
     ]
    },
    {
     "name": "stdout",
     "output_type": "stream",
     "text": [
      "2022-11-02 23:44:51.080097 request processed\n",
      "2022-11-02 23:44:51.135427 request processed\n",
      "2022-11-02 23:44:51.190866 request processed\n",
      "2022-11-02 23:44:51.244462 request processed\n",
      "2022-11-02 23:44:51.297528 request processed\n",
      "2022-11-02 23:44:51.352916 request processed\n",
      "2022-11-02 23:44:51.408372 request processed\n",
      "2022-11-02 23:44:51.463827 request processed\n",
      "2022-11-02 23:44:51.519252 request processed\n",
      "2022-11-02 23:44:51.574711 request processed\n"
     ]
    },
    {
     "name": "stderr",
     "output_type": "stream",
     "text": [
      "2022-11-02 23:44:51.630163 request failed\n",
      "2022-11-02 23:44:51.685620 request failed\n",
      "2022-11-02 23:44:51.741011 request failed\n",
      "2022-11-02 23:44:51.796419 request failed\n",
      "2022-11-02 23:44:51.847892 request failed\n",
      "2022-11-02 23:44:51.901670 request failed\n",
      "2022-11-02 23:44:51.957125 request failed\n",
      "2022-11-02 23:44:52.009997 request failed\n",
      "2022-11-02 23:44:52.060782 request failed\n",
      "2022-11-02 23:44:52.081704 bucket filled\n"
     ]
    },
    {
     "name": "stdout",
     "output_type": "stream",
     "text": [
      "2022-11-02 23:44:52.116129 request processed\n",
      "2022-11-02 23:44:52.171574 request processed\n",
      "2022-11-02 23:44:52.226976 request processed\n",
      "2022-11-02 23:44:52.282433 request processed\n",
      "2022-11-02 23:44:52.337784 request processed\n",
      "2022-11-02 23:44:52.388237 request processed\n",
      "2022-11-02 23:44:52.443651 request processed\n",
      "2022-11-02 23:44:52.499073 request processed\n",
      "2022-11-02 23:44:52.554474 request processed\n",
      "2022-11-02 23:44:52.610008 request processed\n"
     ]
    },
    {
     "name": "stderr",
     "output_type": "stream",
     "text": [
      "2022-11-02 23:44:52.665448 request failed\n",
      "2022-11-02 23:44:52.720901 request failed\n",
      "2022-11-02 23:44:52.773780 request failed\n",
      "2022-11-02 23:44:52.829253 request failed\n",
      "2022-11-02 23:44:52.884640 request failed\n",
      "2022-11-02 23:44:52.939941 request failed\n",
      "2022-11-02 23:44:52.995389 request failed\n",
      "2022-11-02 23:44:53.050810 request failed\n",
      "2022-11-02 23:44:53.086884 bucket filled\n"
     ]
    },
    {
     "name": "stdout",
     "output_type": "stream",
     "text": [
      "2022-11-02 23:44:53.104609 request processed\n",
      "2022-11-02 23:44:53.160234 request processed\n",
      "2022-11-02 23:44:53.215760 request processed\n",
      "2022-11-02 23:44:53.271191 request processed\n",
      "2022-11-02 23:44:53.326673 request processed\n",
      "2022-11-02 23:44:53.382120 request processed\n",
      "2022-11-02 23:44:53.437588 request processed\n",
      "2022-11-02 23:44:53.493061 request processed\n",
      "2022-11-02 23:44:53.545035 request processed\n",
      "2022-11-02 23:44:53.600388 request processed\n"
     ]
    },
    {
     "name": "stderr",
     "output_type": "stream",
     "text": [
      "2022-11-02 23:44:53.655793 request failed\n",
      "2022-11-02 23:44:53.711234 request failed\n",
      "2022-11-02 23:44:53.766651 request failed\n",
      "2022-11-02 23:44:53.822115 request failed\n",
      "2022-11-02 23:44:53.873379 request failed\n",
      "2022-11-02 23:44:53.926649 request failed\n",
      "2022-11-02 23:44:53.977472 request failed\n",
      "2022-11-02 23:44:54.032947 request failed\n",
      "2022-11-02 23:44:54.088366 request failed\n",
      "2022-11-02 23:44:54.089135 bucket filled\n"
     ]
    },
    {
     "name": "stdout",
     "output_type": "stream",
     "text": [
      "2022-11-02 23:44:54.143705 request processed\n",
      "2022-11-02 23:44:54.199203 request processed\n",
      "2022-11-02 23:44:54.254593 request processed\n",
      "2022-11-02 23:44:54.308719 request processed\n",
      "2022-11-02 23:44:54.359441 request processed\n",
      "2022-11-02 23:44:54.410490 request processed\n",
      "2022-11-02 23:44:54.465923 request processed\n",
      "2022-11-02 23:44:54.521405 request processed\n",
      "2022-11-02 23:44:54.576708 request processed\n",
      "2022-11-02 23:44:54.632092 request processed\n"
     ]
    },
    {
     "name": "stderr",
     "output_type": "stream",
     "text": [
      "2022-11-02 23:44:54.687567 request failed\n",
      "2022-11-02 23:44:54.743014 request failed\n",
      "2022-11-02 23:44:54.793844 request failed\n",
      "2022-11-02 23:44:54.849322 request failed\n",
      "2022-11-02 23:44:54.904737 request failed\n",
      "2022-11-02 23:44:54.959965 request failed\n",
      "2022-11-02 23:44:55.015397 request failed\n",
      "2022-11-02 23:44:55.070828 request failed\n",
      "2022-11-02 23:44:55.094354 bucket filled\n"
     ]
    },
    {
     "name": "stdout",
     "output_type": "stream",
     "text": [
      "2022-11-02 23:44:55.125626 request processed\n",
      "2022-11-02 23:44:55.180965 request processed\n",
      "2022-11-02 23:44:55.236589 request processed\n",
      "2022-11-02 23:44:55.292028 request processed\n",
      "2022-11-02 23:44:55.347469 request processed\n",
      "2022-11-02 23:44:55.402808 request processed\n",
      "2022-11-02 23:44:55.458215 request processed\n",
      "2022-11-02 23:44:55.513667 request processed\n",
      "2022-11-02 23:44:55.568349 request processed\n",
      "2022-11-02 23:44:55.621727 request processed\n"
     ]
    },
    {
     "name": "stderr",
     "output_type": "stream",
     "text": [
      "2022-11-02 23:44:55.677149 request failed\n",
      "2022-11-02 23:44:55.730338 request failed\n",
      "2022-11-02 23:44:55.781165 request failed\n",
      "2022-11-02 23:44:55.831559 request failed\n",
      "2022-11-02 23:44:55.881935 request failed\n",
      "2022-11-02 23:44:55.934962 request failed\n",
      "2022-11-02 23:44:55.990428 request failed\n",
      "2022-11-02 23:44:56.042092 request failed\n",
      "2022-11-02 23:44:56.093232 request failed\n",
      "2022-11-02 23:44:56.099696 bucket filled\n"
     ]
    },
    {
     "name": "stdout",
     "output_type": "stream",
     "text": [
      "2022-11-02 23:44:56.145226 request processed\n",
      "2022-11-02 23:44:56.200633 request processed\n",
      "2022-11-02 23:44:56.251799 request processed\n",
      "2022-11-02 23:44:56.307156 request processed\n",
      "2022-11-02 23:44:56.359053 request processed\n",
      "2022-11-02 23:44:56.414387 request processed\n",
      "2022-11-02 23:44:56.469818 request processed\n",
      "2022-11-02 23:44:56.523788 request processed\n",
      "2022-11-02 23:44:56.577117 request processed\n",
      "2022-11-02 23:44:56.630613 request processed\n"
     ]
    },
    {
     "name": "stderr",
     "output_type": "stream",
     "text": [
      "2022-11-02 23:44:56.684969 request failed\n",
      "2022-11-02 23:44:56.740154 request failed\n",
      "2022-11-02 23:44:56.794701 request failed\n",
      "2022-11-02 23:44:56.850024 request failed\n",
      "2022-11-02 23:44:56.902753 request failed\n",
      "2022-11-02 23:44:56.953461 request failed\n",
      "2022-11-02 23:44:57.008891 request failed\n",
      "2022-11-02 23:44:57.061656 request failed\n",
      "2022-11-02 23:44:57.105139 bucket filled\n"
     ]
    },
    {
     "name": "stdout",
     "output_type": "stream",
     "text": [
      "2022-11-02 23:44:57.117017 request processed\n",
      "2022-11-02 23:44:57.172294 request processed\n",
      "2022-11-02 23:44:57.227721 request processed\n",
      "2022-11-02 23:44:57.283123 request processed\n",
      "2022-11-02 23:44:57.338483 request processed\n",
      "2022-11-02 23:44:57.389295 request processed\n",
      "2022-11-02 23:44:57.443418 request processed\n",
      "2022-11-02 23:44:57.498916 request processed\n",
      "2022-11-02 23:44:57.554289 request processed\n",
      "2022-11-02 23:44:57.609569 request processed\n"
     ]
    },
    {
     "name": "stderr",
     "output_type": "stream",
     "text": [
      "2022-11-02 23:44:57.661398 request failed\n",
      "2022-11-02 23:44:57.716778 request failed\n",
      "2022-11-02 23:44:57.772161 request failed\n",
      "2022-11-02 23:44:57.827154 request failed\n",
      "2022-11-02 23:44:57.878515 request failed\n",
      "2022-11-02 23:44:57.933871 request failed\n",
      "2022-11-02 23:44:57.988922 request failed\n",
      "2022-11-02 23:44:58.043092 request failed\n",
      "2022-11-02 23:44:58.098488 request failed\n",
      "2022-11-02 23:44:58.110653 bucket filled\n"
     ]
    },
    {
     "name": "stdout",
     "output_type": "stream",
     "text": [
      "2022-11-02 23:44:58.153855 request processed\n",
      "2022-11-02 23:44:58.209344 request processed\n",
      "2022-11-02 23:44:58.264792 request processed\n",
      "2022-11-02 23:44:58.316465 request processed\n",
      "2022-11-02 23:44:58.368260 request processed\n",
      "2022-11-02 23:44:58.423535 request processed\n",
      "2022-11-02 23:44:58.478952 request processed\n",
      "2022-11-02 23:44:58.534383 request processed\n",
      "2022-11-02 23:44:58.586052 request processed\n",
      "2022-11-02 23:44:58.638461 request processed\n"
     ]
    },
    {
     "name": "stderr",
     "output_type": "stream",
     "text": [
      "2022-11-02 23:44:58.693896 request failed\n",
      "2022-11-02 23:44:58.745495 request failed\n",
      "2022-11-02 23:44:58.796661 request failed\n",
      "2022-11-02 23:44:58.851999 request failed\n",
      "2022-11-02 23:44:58.907415 request failed\n",
      "2022-11-02 23:44:58.962784 request failed\n",
      "2022-11-02 23:44:59.018232 request failed\n",
      "2022-11-02 23:44:59.073724 request failed\n",
      "2022-11-02 23:44:59.115859 bucket filled\n"
     ]
    },
    {
     "name": "stdout",
     "output_type": "stream",
     "text": [
      "2022-11-02 23:44:59.127660 request processed\n",
      "2022-11-02 23:44:59.180998 request processed\n",
      "2022-11-02 23:44:59.234948 request processed\n",
      "2022-11-02 23:44:59.287372 request processed\n",
      "2022-11-02 23:44:59.342807 request processed\n",
      "2022-11-02 23:44:59.394275 request processed\n",
      "2022-11-02 23:44:59.449734 request processed\n",
      "2022-11-02 23:44:59.505591 request processed\n",
      "2022-11-02 23:44:59.560879 request processed\n",
      "2022-11-02 23:44:59.616278 request processed\n"
     ]
    },
    {
     "name": "stderr",
     "output_type": "stream",
     "text": [
      "2022-11-02 23:44:59.671706 request failed\n",
      "2022-11-02 23:44:59.722477 request failed\n",
      "2022-11-02 23:44:59.774088 request failed\n",
      "2022-11-02 23:44:59.829376 request failed\n",
      "2022-11-02 23:44:59.884767 request failed\n",
      "2022-11-02 23:44:59.940090 request failed\n",
      "2022-11-02 23:44:59.995552 request failed\n",
      "2022-11-02 23:45:00.047390 request failed\n",
      "2022-11-02 23:45:00.102768 request failed\n",
      "2022-11-02 23:45:00.118235 bucket filled\n"
     ]
    },
    {
     "name": "stdout",
     "output_type": "stream",
     "text": [
      "2022-11-02 23:45:00.158245 request processed\n",
      "2022-11-02 23:45:00.209228 request processed\n",
      "2022-11-02 23:45:00.264773 request processed\n",
      "2022-11-02 23:45:00.319956 request processed\n",
      "2022-11-02 23:45:00.372992 request processed\n",
      "2022-11-02 23:45:00.428248 request processed\n",
      "2022-11-02 23:45:00.483588 request processed\n",
      "2022-11-02 23:45:00.534923 request processed\n",
      "2022-11-02 23:45:00.590288 request processed\n",
      "2022-11-02 23:45:00.645683 request processed\n"
     ]
    },
    {
     "name": "stderr",
     "output_type": "stream",
     "text": [
      "2022-11-02 23:45:00.701102 request failed\n",
      "2022-11-02 23:45:00.757236 request failed\n",
      "2022-11-02 23:45:00.812655 request failed\n",
      "2022-11-02 23:45:00.867999 request failed\n",
      "2022-11-02 23:45:00.918491 request failed\n",
      "2022-11-02 23:45:00.973770 request failed\n",
      "2022-11-02 23:45:01.026253 request failed\n",
      "2022-11-02 23:45:01.077082 request failed\n",
      "2022-11-02 23:45:01.119198 bucket filled\n"
     ]
    },
    {
     "name": "stdout",
     "output_type": "stream",
     "text": [
      "2022-11-02 23:45:01.128381 request processed\n",
      "2022-11-02 23:45:01.183723 request processed\n",
      "2022-11-02 23:45:01.239092 request processed\n",
      "2022-11-02 23:45:01.294485 request processed\n",
      "2022-11-02 23:45:01.349864 request processed\n",
      "2022-11-02 23:45:01.405163 request processed\n",
      "2022-11-02 23:45:01.460430 request processed\n",
      "2022-11-02 23:45:01.515838 request processed\n",
      "2022-11-02 23:45:01.568271 request processed\n",
      "2022-11-02 23:45:01.623657 request processed\n"
     ]
    },
    {
     "name": "stderr",
     "output_type": "stream",
     "text": [
      "2022-11-02 23:45:01.679060 request failed\n",
      "2022-11-02 23:45:01.732513 request failed\n",
      "2022-11-02 23:45:01.787869 request failed\n",
      "2022-11-02 23:45:01.843196 request failed\n",
      "2022-11-02 23:45:01.896230 request failed\n",
      "2022-11-02 23:45:01.951518 request failed\n",
      "2022-11-02 23:45:02.005756 request failed\n",
      "2022-11-02 23:45:02.060398 request failed\n",
      "2022-11-02 23:45:02.115716 request failed\n",
      "2022-11-02 23:45:02.120306 bucket filled\n"
     ]
    },
    {
     "name": "stdout",
     "output_type": "stream",
     "text": [
      "2022-11-02 23:45:02.171495 request processed\n",
      "2022-11-02 23:45:02.226961 request processed\n",
      "2022-11-02 23:45:02.282357 request processed\n",
      "2022-11-02 23:45:02.337791 request processed\n",
      "2022-11-02 23:45:02.393231 request processed\n",
      "2022-11-02 23:45:02.448652 request processed\n",
      "2022-11-02 23:45:02.501876 request processed\n",
      "2022-11-02 23:45:02.557302 request processed\n",
      "2022-11-02 23:45:02.611331 request processed\n",
      "2022-11-02 23:45:02.666738 request processed\n"
     ]
    },
    {
     "name": "stderr",
     "output_type": "stream",
     "text": [
      "2022-11-02 23:45:02.722195 request failed\n",
      "2022-11-02 23:45:02.777637 request failed\n",
      "2022-11-02 23:45:02.831772 request failed\n",
      "2022-11-02 23:45:02.887039 request failed\n",
      "2022-11-02 23:45:02.942475 request failed\n",
      "2022-11-02 23:45:02.997854 request failed\n",
      "2022-11-02 23:45:03.053232 request failed\n",
      "2022-11-02 23:45:03.108642 request failed\n",
      "2022-11-02 23:45:03.125513 bucket filled\n"
     ]
    },
    {
     "name": "stdout",
     "output_type": "stream",
     "text": [
      "2022-11-02 23:45:03.164029 request processed\n",
      "2022-11-02 23:45:03.219357 request processed\n",
      "2022-11-02 23:45:03.274748 request processed\n",
      "2022-11-02 23:45:03.330170 request processed\n",
      "2022-11-02 23:45:03.385537 request processed\n",
      "2022-11-02 23:45:03.440121 request processed\n",
      "2022-11-02 23:45:03.495536 request processed\n",
      "2022-11-02 23:45:03.548875 request processed\n",
      "2022-11-02 23:45:03.601554 request processed\n",
      "2022-11-02 23:45:03.656877 request processed\n"
     ]
    },
    {
     "name": "stderr",
     "output_type": "stream",
     "text": [
      "2022-11-02 23:45:03.712319 request failed\n",
      "2022-11-02 23:45:03.767803 request failed\n",
      "2022-11-02 23:45:03.823180 request failed\n",
      "2022-11-02 23:45:03.878460 request failed\n",
      "2022-11-02 23:45:03.933852 request failed\n",
      "2022-11-02 23:45:03.989139 request failed\n",
      "2022-11-02 23:45:04.043285 request failed\n",
      "2022-11-02 23:45:04.098769 request failed\n",
      "2022-11-02 23:45:04.127155 bucket filled\n"
     ]
    },
    {
     "name": "stdout",
     "output_type": "stream",
     "text": [
      "2022-11-02 23:45:04.154168 request processed\n",
      "2022-11-02 23:45:04.209426 request processed\n",
      "2022-11-02 23:45:04.264762 request processed\n",
      "2022-11-02 23:45:04.320192 request processed\n",
      "2022-11-02 23:45:04.372155 request processed\n",
      "2022-11-02 23:45:04.422987 request processed\n",
      "2022-11-02 23:45:04.477344 request processed\n",
      "2022-11-02 23:45:04.532753 request processed\n",
      "2022-11-02 23:45:04.588009 request processed\n",
      "2022-11-02 23:45:04.643346 request processed\n"
     ]
    },
    {
     "name": "stderr",
     "output_type": "stream",
     "text": [
      "2022-11-02 23:45:04.698687 request failed\n",
      "2022-11-02 23:45:04.754095 request failed\n",
      "2022-11-02 23:45:04.809542 request failed\n",
      "2022-11-02 23:45:04.860750 request failed\n",
      "2022-11-02 23:45:04.916062 request failed\n",
      "2022-11-02 23:45:04.971429 request failed\n",
      "2022-11-02 23:45:05.023933 request failed\n",
      "2022-11-02 23:45:05.079361 request failed\n",
      "2022-11-02 23:45:05.127843 bucket filled\n"
     ]
    },
    {
     "name": "stdout",
     "output_type": "stream",
     "text": [
      "2022-11-02 23:45:05.134283 request processed\n",
      "2022-11-02 23:45:05.188067 request processed\n",
      "2022-11-02 23:45:05.243213 request processed\n",
      "2022-11-02 23:45:05.298607 request processed\n",
      "2022-11-02 23:45:05.349540 request processed\n",
      "2022-11-02 23:45:05.404906 request processed\n",
      "2022-11-02 23:45:05.460341 request processed\n",
      "2022-11-02 23:45:05.515754 request processed\n",
      "2022-11-02 23:45:05.567032 request processed\n",
      "2022-11-02 23:45:05.622321 request processed\n"
     ]
    },
    {
     "name": "stderr",
     "output_type": "stream",
     "text": [
      "2022-11-02 23:45:05.677755 request failed\n",
      "2022-11-02 23:45:05.733173 request failed\n",
      "2022-11-02 23:45:05.783780 request failed\n",
      "2022-11-02 23:45:05.836421 request failed\n",
      "2022-11-02 23:45:05.891211 request failed\n",
      "2022-11-02 23:45:05.945431 request failed\n",
      "2022-11-02 23:45:06.000874 request failed\n",
      "2022-11-02 23:45:06.056326 request failed\n",
      "2022-11-02 23:45:06.107736 request failed\n",
      "2022-11-02 23:45:06.132914 bucket filled\n"
     ]
    },
    {
     "name": "stdout",
     "output_type": "stream",
     "text": [
      "2022-11-02 23:45:06.160829 request processed\n",
      "2022-11-02 23:45:06.216380 request processed\n",
      "2022-11-02 23:45:06.268222 request processed\n",
      "2022-11-02 23:45:06.319235 request processed\n",
      "2022-11-02 23:45:06.369634 request processed\n",
      "2022-11-02 23:45:06.424940 request processed\n",
      "2022-11-02 23:45:06.480379 request processed\n",
      "2022-11-02 23:45:06.535792 request processed\n",
      "2022-11-02 23:45:06.587956 request processed\n",
      "2022-11-02 23:45:06.641196 request processed\n"
     ]
    },
    {
     "name": "stderr",
     "output_type": "stream",
     "text": [
      "2022-11-02 23:45:06.696596 request failed\n",
      "2022-11-02 23:45:06.752040 request failed\n",
      "2022-11-02 23:45:06.807445 request failed\n",
      "2022-11-02 23:45:06.862782 request failed\n",
      "2022-11-02 23:45:06.915790 request failed\n",
      "2022-11-02 23:45:06.968207 request failed\n",
      "2022-11-02 23:45:07.021493 request failed\n",
      "2022-11-02 23:45:07.072643 request failed\n",
      "2022-11-02 23:45:07.127025 request failed\n",
      "2022-11-02 23:45:07.134856 bucket filled\n"
     ]
    },
    {
     "name": "stdout",
     "output_type": "stream",
     "text": [
      "2022-11-02 23:45:07.178703 request processed\n",
      "2022-11-02 23:45:07.230096 request processed\n",
      "2022-11-02 23:45:07.284882 request processed\n",
      "2022-11-02 23:45:07.337528 request processed\n",
      "2022-11-02 23:45:07.389534 request processed\n",
      "2022-11-02 23:45:07.442640 request processed\n",
      "2022-11-02 23:45:07.493526 request processed\n",
      "2022-11-02 23:45:07.548926 request processed\n",
      "2022-11-02 23:45:07.601532 request processed\n",
      "2022-11-02 23:45:07.656896 request processed\n"
     ]
    }
   ],
   "source": [
    "import time\n",
    "import threading \n",
    "from datetime import datetime\n",
    "import sys\n",
    "from threading import Thread\n",
    "\n",
    "lock = threading.Lock()\n",
    "bucket = []\n",
    "BUCKET_CAPACITY = 10\n",
    "BUCKET_FILLED_PER_SEC = 1\n",
    "REQUEST_PER_SEC = 20\n",
    "\n",
    "def fill_bucket():\n",
    "    if len(bucket) >= BUCKET_CAPACITY:\n",
    "        return\n",
    "    bucket.extend([1] * (BUCKET_CAPACITY - len(bucket)))\n",
    "\n",
    "def fill_bucket_in_time_window():\n",
    "    while True:\n",
    "        time.sleep(1 / BUCKET_FILLED_PER_SEC)\n",
    "        fill_bucket()\n",
    "        print(f'{datetime.now()}/ bucket filled', file=sys.stderr)\n",
    "    \n",
    "def process():\n",
    "    with lock:\n",
    "        if len(bucket) <= 0:\n",
    "            return False\n",
    "        bucket.pop()\n",
    "        return True\n",
    "\n",
    "def request_in_sec():\n",
    "    while True:\n",
    "        time.sleep(1 / REQUEST_PER_SEC)\n",
    "        res = process()\n",
    "        if res:\n",
    "            print(f'{datetime.now()}/ request processed')\n",
    "        else:\n",
    "            print(f'{datetime.now()}/ request failed', file=sys.stderr)\n",
    "\n",
    "\n",
    "t = Thread(target=request_in_sec)\n",
    "t.start()\n",
    "\n",
    "\n",
    "t = Thread(target=fill_bucket_in_time_window)\n",
    "t.start()\n",
    "\n"
   ]
  },
  {
   "cell_type": "code",
   "execution_count": null,
   "id": "b6a249ac",
   "metadata": {},
   "outputs": [],
   "source": []
  },
  {
   "cell_type": "code",
   "execution_count": null,
   "id": "89a59142",
   "metadata": {},
   "outputs": [],
   "source": []
  },
  {
   "cell_type": "code",
   "execution_count": null,
   "id": "7d6f67f4",
   "metadata": {},
   "outputs": [],
   "source": []
  },
  {
   "cell_type": "code",
   "execution_count": null,
   "id": "c4455165",
   "metadata": {},
   "outputs": [],
   "source": []
  },
  {
   "cell_type": "code",
   "execution_count": null,
   "id": "07bd9554",
   "metadata": {},
   "outputs": [],
   "source": []
  },
  {
   "cell_type": "code",
   "execution_count": null,
   "id": "cd75466c",
   "metadata": {},
   "outputs": [],
   "source": []
  },
  {
   "cell_type": "code",
   "execution_count": null,
   "id": "ef9c1fd6",
   "metadata": {},
   "outputs": [],
   "source": []
  }
 ],
 "metadata": {
  "kernelspec": {
   "display_name": "Python 3 (ipykernel)",
   "language": "python",
   "name": "python3"
  },
  "language_info": {
   "codemirror_mode": {
    "name": "ipython",
    "version": 3
   },
   "file_extension": ".py",
   "mimetype": "text/x-python",
   "name": "python",
   "nbconvert_exporter": "python",
   "pygments_lexer": "ipython3",
   "version": "3.9.12"
  }
 },
 "nbformat": 4,
 "nbformat_minor": 5
}
