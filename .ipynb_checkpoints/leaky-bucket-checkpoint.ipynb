{
 "cells": [
  {
   "cell_type": "code",
   "execution_count": 1,
   "id": "81ec76e5",
   "metadata": {},
   "outputs": [
    {
     "name": "stderr",
     "output_type": "stream",
     "text": [
      "2022-11-05 09:53:57.664356/ request success\n",
      "2022-11-05 09:53:57.770221/ request success\n",
      "2022-11-05 09:53:57.874984/ request success\n",
      "2022-11-05 09:53:57.980277/ request success\n"
     ]
    },
    {
     "name": "stdout",
     "output_type": "stream",
     "text": [
      "09:53:57/ request processed original requests: 09:53:57\n"
     ]
    },
    {
     "name": "stderr",
     "output_type": "stream",
     "text": [
      "2022-11-05 09:53:58.085546/ request success\n",
      "2022-11-05 09:53:58.190781/ request success\n"
     ]
    },
    {
     "name": "stdout",
     "output_type": "stream",
     "text": [
      "09:53:58/ request processed original requests: 09:53:57\n"
     ]
    },
    {
     "name": "stderr",
     "output_type": "stream",
     "text": [
      "2022-11-05 09:53:58.292858/ request success\n",
      "2022-11-05 09:53:58.398163/ request success\n",
      "2022-11-05 09:53:58.503450/ request success\n",
      "2022-11-05 09:53:58.608706/ request success\n"
     ]
    },
    {
     "name": "stdout",
     "output_type": "stream",
     "text": [
      "09:53:58/ request processed original requests: 09:53:57\n"
     ]
    },
    {
     "name": "stderr",
     "output_type": "stream",
     "text": [
      "2022-11-05 09:53:58.713975/ request success\n",
      "2022-11-05 09:53:58.819220/ request success\n"
     ]
    },
    {
     "name": "stdout",
     "output_type": "stream",
     "text": [
      "09:53:58/ request processed original requests: 09:53:57\n"
     ]
    },
    {
     "name": "stderr",
     "output_type": "stream",
     "text": [
      "2022-11-05 09:53:58.924441/ request success\n",
      "2022-11-05 09:53:59.025476/ request success\n",
      "2022-11-05 09:53:59.130769/ request success\n",
      "2022-11-05 09:53:59.232760/ request success\n"
     ]
    },
    {
     "name": "stdout",
     "output_type": "stream",
     "text": [
      "09:53:59/ request processed original requests: 09:53:58\n"
     ]
    },
    {
     "name": "stderr",
     "output_type": "stream",
     "text": [
      "2022-11-05 09:53:59.333008/ request success\n",
      "2022-11-05 09:53:59.438292/ request success\n",
      "2022-11-05 09:53:59.540896/ request success\n",
      "2022-11-05 09:53:59.641452/ request success\n"
     ]
    },
    {
     "name": "stdout",
     "output_type": "stream",
     "text": [
      "09:53:59/ request processed original requests: 09:53:58\n"
     ]
    },
    {
     "name": "stderr",
     "output_type": "stream",
     "text": [
      "2022-11-05 09:53:59.742965/ request success\n",
      "2022-11-05 09:53:59.848183/ request success\n"
     ]
    },
    {
     "name": "stdout",
     "output_type": "stream",
     "text": [
      "09:53:59/ request processed original requests: 09:53:58\n"
     ]
    },
    {
     "name": "stderr",
     "output_type": "stream",
     "text": [
      "2022-11-05 09:53:59.953419/ request success\n",
      "2022-11-05 09:54:00.058696/ request success\n",
      "2022-11-05 09:54:00.163962/ request success\n",
      "2022-11-05 09:54:00.268940/ request success\n"
     ]
    },
    {
     "name": "stdout",
     "output_type": "stream",
     "text": [
      "09:54:00/ request processed original requests: 09:53:58\n"
     ]
    },
    {
     "name": "stderr",
     "output_type": "stream",
     "text": [
      "2022-11-05 09:54:00.371647/ request success\n",
      "2022-11-05 09:54:00.476341/ request success\n",
      "2022-11-05 09:54:00.580943/ request success\n",
      "2022-11-05 09:54:00.686143/ request success\n"
     ]
    },
    {
     "name": "stdout",
     "output_type": "stream",
     "text": [
      "09:54:00/ request processed original requests: 09:53:58\n"
     ]
    },
    {
     "name": "stderr",
     "output_type": "stream",
     "text": [
      "2022-11-05 09:54:00.788225/ request success\n",
      "2022-11-05 09:54:00.890365/ request success\n"
     ]
    },
    {
     "name": "stdout",
     "output_type": "stream",
     "text": [
      "09:54:00/ request processed original requests: 09:53:58\n"
     ]
    },
    {
     "name": "stderr",
     "output_type": "stream",
     "text": [
      "2022-11-05 09:54:00.991180/ request success\n",
      "2022-11-05 09:54:01.096386/ request success\n",
      "2022-11-05 09:54:01.201624/ request success\n",
      "2022-11-05 09:54:01.303527/ request success\n"
     ]
    },
    {
     "name": "stdout",
     "output_type": "stream",
     "text": [
      "09:54:01/ request processed original requests: 09:53:58\n"
     ]
    },
    {
     "name": "stderr",
     "output_type": "stream",
     "text": [
      "2022-11-05 09:54:01.408204/ request success\n",
      "2022-11-05 09:54:01.510090/ request success\n"
     ]
    },
    {
     "name": "stdout",
     "output_type": "stream",
     "text": [
      "09:54:01/ request processed original requests: 09:53:58\n"
     ]
    },
    {
     "name": "stderr",
     "output_type": "stream",
     "text": [
      "2022-11-05 09:54:01.615350/ request success\n",
      "2022-11-05 09:54:01.718019/ request success\n",
      "2022-11-05 09:54:01.823268/ request success\n",
      "2022-11-05 09:54:01.925392/ request success\n"
     ]
    },
    {
     "name": "stdout",
     "output_type": "stream",
     "text": [
      "09:54:01/ request processed original requests: 09:53:58\n"
     ]
    },
    {
     "name": "stderr",
     "output_type": "stream",
     "text": [
      "2022-11-05 09:54:02.030604/ request success\n",
      "2022-11-05 09:54:02.135917/ request success\n",
      "2022-11-05 09:54:02.241231/ request success\n",
      "2022-11-05 09:54:02.344886/ request success\n"
     ]
    },
    {
     "name": "stdout",
     "output_type": "stream",
     "text": [
      "09:54:02/ request processed original requests: 09:53:59\n"
     ]
    },
    {
     "name": "stderr",
     "output_type": "stream",
     "text": [
      "2022-11-05 09:54:02.447324/ request success\n",
      "2022-11-05 09:54:02.550268/ request success\n"
     ]
    },
    {
     "name": "stdout",
     "output_type": "stream",
     "text": [
      "09:54:02/ request processed original requests: 09:53:59\n"
     ]
    },
    {
     "name": "stderr",
     "output_type": "stream",
     "text": [
      "2022-11-05 09:54:02.654245/ request success\n",
      "2022-11-05 09:54:02.755315/ request success\n",
      "2022-11-05 09:54:02.856813/ request success\n",
      "2022-11-05 09:54:02.962065/ request success\n"
     ]
    },
    {
     "name": "stdout",
     "output_type": "stream",
     "text": [
      "09:54:02/ request processed original requests: 09:53:59\n"
     ]
    },
    {
     "name": "stderr",
     "output_type": "stream",
     "text": [
      "2022-11-05 09:54:03.067430/ request success\n",
      "2022-11-05 09:54:03.169395/ request success\n",
      "2022-11-05 09:54:03.273832/ request success\n",
      "2022-11-05 09:54:03.379208/ request success\n"
     ]
    },
    {
     "name": "stdout",
     "output_type": "stream",
     "text": [
      "09:54:03/ request processed original requests: 09:53:59\n"
     ]
    },
    {
     "name": "stderr",
     "output_type": "stream",
     "text": [
      "2022-11-05 09:54:03.484465/ request success\n",
      "2022-11-05 09:54:03.588392/ request success\n"
     ]
    },
    {
     "name": "stdout",
     "output_type": "stream",
     "text": [
      "09:54:03/ request processed original requests: 09:53:59\n"
     ]
    },
    {
     "name": "stderr",
     "output_type": "stream",
     "text": [
      "2022-11-05 09:54:03.693666/ request success\n",
      "2022-11-05 09:54:03.798926/ request success\n",
      "2022-11-05 09:54:03.904187/ request success\n",
      "2022-11-05 09:54:04.008960/ request success\n"
     ]
    },
    {
     "name": "stdout",
     "output_type": "stream",
     "text": [
      "09:54:03/ request processed original requests: 09:53:59\n"
     ]
    },
    {
     "name": "stderr",
     "output_type": "stream",
     "text": [
      "2022-11-05 09:54:04.114180/ request success\n",
      "2022-11-05 09:54:04.219812/ request success\n"
     ]
    },
    {
     "name": "stdout",
     "output_type": "stream",
     "text": [
      "09:54:04/ request processed original requests: 09:53:59\n"
     ]
    },
    {
     "name": "stderr",
     "output_type": "stream",
     "text": [
      "2022-11-05 09:54:04.324853/ request success\n",
      "2022-11-05 09:54:04.430051/ request success\n",
      "2022-11-05 09:54:04.534383/ request success\n",
      "2022-11-05 09:54:04.636975/ request success\n"
     ]
    },
    {
     "name": "stdout",
     "output_type": "stream",
     "text": [
      "09:54:04/ request processed original requests: 09:53:59\n"
     ]
    },
    {
     "name": "stderr",
     "output_type": "stream",
     "text": [
      "2022-11-05 09:54:04.741670/ request success\n",
      "2022-11-05 09:54:04.842070/ request success\n",
      "2022-11-05 09:54:04.943658/ request success\n",
      "2022-11-05 09:54:05.049107/ request success\n"
     ]
    },
    {
     "name": "stdout",
     "output_type": "stream",
     "text": [
      "09:54:04/ request processed original requests: 09:53:59\n"
     ]
    },
    {
     "name": "stderr",
     "output_type": "stream",
     "text": [
      "2022-11-05 09:54:05.154384/ request success\n",
      "2022-11-05 09:54:05.259937/ request success\n"
     ]
    },
    {
     "name": "stdout",
     "output_type": "stream",
     "text": [
      "09:54:05/ request processed original requests: 09:53:59\n"
     ]
    },
    {
     "name": "stderr",
     "output_type": "stream",
     "text": [
      "2022-11-05 09:54:05.364983/ request success\n",
      "2022-11-05 09:54:05.470217/ request success\n",
      "2022-11-05 09:54:05.574952/ request success\n",
      "2022-11-05 09:54:05.680150/ request success\n"
     ]
    },
    {
     "name": "stdout",
     "output_type": "stream",
     "text": [
      "09:54:05/ request processed original requests: 09:54:00\n"
     ]
    },
    {
     "name": "stderr",
     "output_type": "stream",
     "text": [
      "2022-11-05 09:54:05.785381/ request success\n",
      "2022-11-05 09:54:05.890706/ request success\n",
      "2022-11-05 09:54:05.996025/ request success\n",
      "2022-11-05 09:54:06.101244/ request success\n"
     ]
    },
    {
     "name": "stdout",
     "output_type": "stream",
     "text": [
      "09:54:06/ request processed original requests: 09:54:00\n"
     ]
    },
    {
     "name": "stderr",
     "output_type": "stream",
     "text": [
      "2022-11-05 09:54:06.203103/ request success\n",
      "2022-11-05 09:54:06.308010/ request success\n"
     ]
    },
    {
     "name": "stdout",
     "output_type": "stream",
     "text": [
      "09:54:06/ request processed original requests: 09:54:00\n"
     ]
    },
    {
     "name": "stderr",
     "output_type": "stream",
     "text": [
      "2022-11-05 09:54:06.412968/ request success\n",
      "2022-11-05 09:54:06.518202/ request success\n",
      "2022-11-05 09:54:06.623431/ request success\n",
      "2022-11-05 09:54:06.728707/ request success\n"
     ]
    },
    {
     "name": "stdout",
     "output_type": "stream",
     "text": [
      "09:54:06/ request processed original requests: 09:54:00\n"
     ]
    },
    {
     "name": "stderr",
     "output_type": "stream",
     "text": [
      "2022-11-05 09:54:06.833893/ request success\n",
      "2022-11-05 09:54:06.937676/ request success\n"
     ]
    },
    {
     "name": "stdout",
     "output_type": "stream",
     "text": [
      "09:54:07/ request processed original requests: 09:54:00\n"
     ]
    },
    {
     "name": "stderr",
     "output_type": "stream",
     "text": [
      "2022-11-05 09:54:07.041324/ request success\n",
      "2022-11-05 09:54:07.146658/ request success\n",
      "2022-11-05 09:54:07.247197/ request success\n",
      "2022-11-05 09:54:07.349458/ request success\n"
     ]
    },
    {
     "name": "stdout",
     "output_type": "stream",
     "text": [
      "09:54:07/ request processed original requests: 09:54:00\n"
     ]
    },
    {
     "name": "stderr",
     "output_type": "stream",
     "text": [
      "2022-11-05 09:54:07.454755/ request success\n",
      "2022-11-05 09:54:07.557260/ request success\n",
      "2022-11-05 09:54:07.660263/ request success\n",
      "2022-11-05 09:54:07.765484/ request success\n"
     ]
    },
    {
     "name": "stdout",
     "output_type": "stream",
     "text": [
      "09:54:07/ request processed original requests: 09:54:00\n"
     ]
    },
    {
     "name": "stderr",
     "output_type": "stream",
     "text": [
      "2022-11-05 09:54:07.870669/ request success\n",
      "2022-11-05 09:54:07.975185/ request success\n"
     ]
    },
    {
     "name": "stdout",
     "output_type": "stream",
     "text": [
      "09:54:08/ request processed original requests: 09:54:00\n"
     ]
    },
    {
     "name": "stderr",
     "output_type": "stream",
     "text": [
      "2022-11-05 09:54:08.080487/ request success\n",
      "2022-11-05 09:54:08.185210/ request success\n",
      "2022-11-05 09:54:08.290843/ request success\n",
      "2022-11-05 09:54:08.391375/ request success\n"
     ]
    },
    {
     "name": "stdout",
     "output_type": "stream",
     "text": [
      "09:54:08/ request processed original requests: 09:54:00\n"
     ]
    },
    {
     "name": "stderr",
     "output_type": "stream",
     "text": [
      "2022-11-05 09:54:08.493700/ request success\n",
      "2022-11-05 09:54:08.596968/ request success\n",
      "2022-11-05 09:54:08.700955/ request success\n",
      "2022-11-05 09:54:08.804992/ request success\n"
     ]
    },
    {
     "name": "stdout",
     "output_type": "stream",
     "text": [
      "09:54:08/ request processed original requests: 09:54:00\n"
     ]
    },
    {
     "name": "stderr",
     "output_type": "stream",
     "text": [
      "2022-11-05 09:54:08.910311/ request success\n",
      "2022-11-05 09:54:09.016106/ request success\n"
     ]
    },
    {
     "name": "stdout",
     "output_type": "stream",
     "text": [
      "09:54:09/ request processed original requests: 09:54:01\n"
     ]
    },
    {
     "name": "stderr",
     "output_type": "stream",
     "text": [
      "2022-11-05 09:54:09.118947/ request success\n",
      "2022-11-05 09:54:09.220984/ request success\n",
      "2022-11-05 09:54:09.326283/ request success\n",
      "2022-11-05 09:54:09.430086/ request success\n"
     ]
    },
    {
     "name": "stdout",
     "output_type": "stream",
     "text": [
      "09:54:09/ request processed original requests: 09:54:01\n"
     ]
    },
    {
     "name": "stderr",
     "output_type": "stream",
     "text": [
      "2022-11-05 09:54:09.535335/ request success\n",
      "2022-11-05 09:54:09.639832/ request success\n"
     ]
    },
    {
     "name": "stdout",
     "output_type": "stream",
     "text": [
      "09:54:09/ request processed original requests: 09:54:01\n"
     ]
    },
    {
     "name": "stderr",
     "output_type": "stream",
     "text": [
      "2022-11-05 09:54:09.741713/ request success\n",
      "2022-11-05 09:54:09.847011/ request success\n",
      "2022-11-05 09:54:09.952313/ request success\n",
      "2022-11-05 09:54:10.054044/ request success\n"
     ]
    },
    {
     "name": "stdout",
     "output_type": "stream",
     "text": [
      "09:54:10/ request processed original requests: 09:54:01\n"
     ]
    },
    {
     "name": "stderr",
     "output_type": "stream",
     "text": [
      "2022-11-05 09:54:10.158049/ request success\n",
      "2022-11-05 09:54:10.263307/ request success\n",
      "2022-11-05 09:54:10.368409/ request success\n",
      "2022-11-05 09:54:10.473643/ request success\n"
     ]
    },
    {
     "name": "stdout",
     "output_type": "stream",
     "text": [
      "09:54:10/ request processed original requests: 09:54:01\n"
     ]
    },
    {
     "name": "stderr",
     "output_type": "stream",
     "text": [
      "2022-11-05 09:54:10.578960/ request success\n",
      "2022-11-05 09:54:10.684247/ request success\n"
     ]
    },
    {
     "name": "stdout",
     "output_type": "stream",
     "text": [
      "09:54:10/ request processed original requests: 09:54:01\n"
     ]
    },
    {
     "name": "stderr",
     "output_type": "stream",
     "text": [
      "2022-11-05 09:54:10.789497/ request success\n",
      "2022-11-05 09:54:10.894700/ request success\n",
      "2022-11-05 09:54:10.999948/ request success\n",
      "2022-11-05 09:54:11.105181/ request success\n"
     ]
    },
    {
     "name": "stdout",
     "output_type": "stream",
     "text": [
      "09:54:11/ request processed original requests: 09:54:01\n"
     ]
    },
    {
     "name": "stderr",
     "output_type": "stream",
     "text": [
      "2022-11-05 09:54:11.208083/ request success\n",
      "2022-11-05 09:54:11.313360/ request success\n"
     ]
    },
    {
     "name": "stdout",
     "output_type": "stream",
     "text": [
      "09:54:11/ request processed original requests: 09:54:01\n"
     ]
    },
    {
     "name": "stderr",
     "output_type": "stream",
     "text": [
      "2022-11-05 09:54:11.415896/ request success\n",
      "2022-11-05 09:54:11.521133/ request success\n",
      "2022-11-05 09:54:11.624753/ request success\n",
      "2022-11-05 09:54:11.726072/ request success\n"
     ]
    },
    {
     "name": "stdout",
     "output_type": "stream",
     "text": [
      "09:54:11/ request processed original requests: 09:54:01\n"
     ]
    },
    {
     "name": "stderr",
     "output_type": "stream",
     "text": [
      "2022-11-05 09:54:11.826642/ request success\n",
      "2022-11-05 09:54:11.932216/ request success\n",
      "2022-11-05 09:54:12.036966/ request success\n",
      "2022-11-05 09:54:12.142230/ request success\n"
     ]
    },
    {
     "name": "stdout",
     "output_type": "stream",
     "text": [
      "09:54:12/ request processed original requests: 09:54:02\n"
     ]
    },
    {
     "name": "stderr",
     "output_type": "stream",
     "text": [
      "2022-11-05 09:54:12.242888/ request success\n",
      "2022-11-05 09:54:12.345108/ request success\n"
     ]
    },
    {
     "name": "stdout",
     "output_type": "stream",
     "text": [
      "09:54:12/ request processed original requests: 09:54:02\n"
     ]
    },
    {
     "name": "stderr",
     "output_type": "stream",
     "text": [
      "2022-11-05 09:54:12.450428/ request success\n",
      "2022-11-05 09:54:12.555669/ request success\n",
      "2022-11-05 09:54:12.658086/ request failed\n",
      "2022-11-05 09:54:12.759702/ request success\n"
     ]
    },
    {
     "name": "stdout",
     "output_type": "stream",
     "text": [
      "09:54:12/ request processed original requests: 09:54:02\n"
     ]
    },
    {
     "name": "stderr",
     "output_type": "stream",
     "text": [
      "2022-11-05 09:54:12.865023/ request failed\n",
      "2022-11-05 09:54:12.970262/ request failed\n",
      "2022-11-05 09:54:13.075359/ request failed\n",
      "2022-11-05 09:54:13.180619/ request success\n"
     ]
    },
    {
     "name": "stdout",
     "output_type": "stream",
     "text": [
      "09:54:13/ request processed original requests: 09:54:02\n"
     ]
    },
    {
     "name": "stderr",
     "output_type": "stream",
     "text": [
      "2022-11-05 09:54:13.284953/ request failed\n",
      "2022-11-05 09:54:13.390271/ request failed\n"
     ]
    },
    {
     "name": "stdout",
     "output_type": "stream",
     "text": [
      "09:54:13/ request processed original requests: 09:54:02\n"
     ]
    },
    {
     "name": "stderr",
     "output_type": "stream",
     "text": [
      "2022-11-05 09:54:13.494937/ request success\n",
      "2022-11-05 09:54:13.600144/ request failed\n",
      "2022-11-05 09:54:13.705422/ request failed\n",
      "2022-11-05 09:54:13.810701/ request success\n"
     ]
    },
    {
     "name": "stdout",
     "output_type": "stream",
     "text": [
      "09:54:13/ request processed original requests: 09:54:02\n"
     ]
    },
    {
     "name": "stderr",
     "output_type": "stream",
     "text": [
      "2022-11-05 09:54:13.911322/ request failed\n",
      "2022-11-05 09:54:14.012954/ request failed\n"
     ]
    },
    {
     "name": "stdout",
     "output_type": "stream",
     "text": [
      "09:54:14/ request processed original requests: 09:54:02\n"
     ]
    },
    {
     "name": "stderr",
     "output_type": "stream",
     "text": [
      "2022-11-05 09:54:14.115582/ request success\n",
      "2022-11-05 09:54:14.220710/ request failed\n",
      "2022-11-05 09:54:14.325973/ request failed\n",
      "2022-11-05 09:54:14.431533/ request failed\n"
     ]
    },
    {
     "name": "stdout",
     "output_type": "stream",
     "text": [
      "09:54:14/ request processed original requests: 09:54:02\n"
     ]
    },
    {
     "name": "stderr",
     "output_type": "stream",
     "text": [
      "2022-11-05 09:54:14.536738/ request success\n",
      "2022-11-05 09:54:14.640461/ request failed\n",
      "2022-11-05 09:54:14.741677/ request failed\n",
      "2022-11-05 09:54:14.846895/ request success\n"
     ]
    },
    {
     "name": "stdout",
     "output_type": "stream",
     "text": [
      "09:54:14/ request processed original requests: 09:54:02\n"
     ]
    },
    {
     "name": "stderr",
     "output_type": "stream",
     "text": [
      "2022-11-05 09:54:14.952088/ request failed\n",
      "2022-11-05 09:54:15.057056/ request failed\n"
     ]
    },
    {
     "name": "stdout",
     "output_type": "stream",
     "text": [
      "09:54:15/ request processed original requests: 09:54:02\n"
     ]
    },
    {
     "name": "stderr",
     "output_type": "stream",
     "text": [
      "2022-11-05 09:54:15.162389/ request success\n",
      "2022-11-05 09:54:15.267631/ request failed\n",
      "2022-11-05 09:54:15.369149/ request failed\n",
      "2022-11-05 09:54:15.473333/ request success\n"
     ]
    },
    {
     "name": "stdout",
     "output_type": "stream",
     "text": [
      "09:54:15/ request processed original requests: 09:54:03\n"
     ]
    },
    {
     "name": "stderr",
     "output_type": "stream",
     "text": [
      "2022-11-05 09:54:15.574285/ request failed\n",
      "2022-11-05 09:54:15.679508/ request failed\n",
      "2022-11-05 09:54:15.784757/ request failed\n",
      "2022-11-05 09:54:15.890015/ request success\n"
     ]
    },
    {
     "name": "stdout",
     "output_type": "stream",
     "text": [
      "09:54:15/ request processed original requests: 09:54:03\n"
     ]
    },
    {
     "name": "stderr",
     "output_type": "stream",
     "text": [
      "2022-11-05 09:54:15.992162/ request failed\n",
      "2022-11-05 09:54:16.096110/ request failed\n"
     ]
    },
    {
     "name": "stdout",
     "output_type": "stream",
     "text": [
      "09:54:16/ request processed original requests: 09:54:03\n"
     ]
    },
    {
     "name": "stderr",
     "output_type": "stream",
     "text": [
      "2022-11-05 09:54:16.197687/ request success\n",
      "2022-11-05 09:54:16.302907/ request failed\n",
      "2022-11-05 09:54:16.408195/ request failed\n",
      "2022-11-05 09:54:16.509052/ request success\n"
     ]
    },
    {
     "name": "stdout",
     "output_type": "stream",
     "text": [
      "09:54:16/ request processed original requests: 09:54:03\n"
     ]
    },
    {
     "name": "stderr",
     "output_type": "stream",
     "text": [
      "2022-11-05 09:54:16.614313/ request failed\n",
      "2022-11-05 09:54:16.714934/ request failed\n"
     ]
    },
    {
     "name": "stdout",
     "output_type": "stream",
     "text": [
      "09:54:16/ request processed original requests: 09:54:03\n"
     ]
    },
    {
     "name": "stderr",
     "output_type": "stream",
     "text": [
      "2022-11-05 09:54:16.815239/ request success\n",
      "2022-11-05 09:54:16.920601/ request failed\n",
      "2022-11-05 09:54:17.024843/ request failed\n",
      "2022-11-05 09:54:17.129442/ request failed\n"
     ]
    },
    {
     "name": "stdout",
     "output_type": "stream",
     "text": [
      "09:54:17/ request processed original requests: 09:54:03\n"
     ]
    },
    {
     "name": "stderr",
     "output_type": "stream",
     "text": [
      "2022-11-05 09:54:17.234688/ request success\n",
      "2022-11-05 09:54:17.335763/ request failed\n",
      "2022-11-05 09:54:17.441036/ request failed\n",
      "2022-11-05 09:54:17.541928/ request success\n"
     ]
    },
    {
     "name": "stdout",
     "output_type": "stream",
     "text": [
      "09:54:17/ request processed original requests: 09:54:03\n"
     ]
    },
    {
     "name": "stderr",
     "output_type": "stream",
     "text": [
      "2022-11-05 09:54:17.644937/ request failed\n",
      "2022-11-05 09:54:17.748785/ request failed\n"
     ]
    },
    {
     "name": "stdout",
     "output_type": "stream",
     "text": [
      "09:54:17/ request processed original requests: 09:54:03\n"
     ]
    },
    {
     "name": "stderr",
     "output_type": "stream",
     "text": [
      "2022-11-05 09:54:17.854067/ request success\n",
      "2022-11-05 09:54:17.959265/ request failed\n",
      "2022-11-05 09:54:18.064540/ request failed\n",
      "2022-11-05 09:54:18.166053/ request success\n"
     ]
    },
    {
     "name": "stdout",
     "output_type": "stream",
     "text": [
      "09:54:18/ request processed original requests: 09:54:03\n"
     ]
    },
    {
     "name": "stderr",
     "output_type": "stream",
     "text": [
      "2022-11-05 09:54:18.268928/ request failed\n",
      "2022-11-05 09:54:18.374116/ request failed\n",
      "2022-11-05 09:54:18.479303/ request failed\n",
      "2022-11-05 09:54:18.584568/ request success\n"
     ]
    },
    {
     "name": "stdout",
     "output_type": "stream",
     "text": [
      "09:54:18/ request processed original requests: 09:54:04\n"
     ]
    },
    {
     "name": "stderr",
     "output_type": "stream",
     "text": [
      "2022-11-05 09:54:18.684940/ request failed\n",
      "2022-11-05 09:54:18.790170/ request failed\n"
     ]
    },
    {
     "name": "stdout",
     "output_type": "stream",
     "text": [
      "09:54:18/ request processed original requests: 09:54:04\n"
     ]
    },
    {
     "name": "stderr",
     "output_type": "stream",
     "text": [
      "2022-11-05 09:54:18.895494/ request success\n",
      "2022-11-05 09:54:19.000719/ request failed\n",
      "2022-11-05 09:54:19.103535/ request failed\n",
      "2022-11-05 09:54:19.208784/ request success\n"
     ]
    },
    {
     "name": "stdout",
     "output_type": "stream",
     "text": [
      "09:54:19/ request processed original requests: 09:54:04\n"
     ]
    },
    {
     "name": "stderr",
     "output_type": "stream",
     "text": [
      "2022-11-05 09:54:19.314042/ request failed\n",
      "2022-11-05 09:54:19.415953/ request failed\n"
     ]
    },
    {
     "name": "stdout",
     "output_type": "stream",
     "text": [
      "09:54:19/ request processed original requests: 09:54:04\n"
     ]
    },
    {
     "name": "stderr",
     "output_type": "stream",
     "text": [
      "2022-11-05 09:54:19.516751/ request success\n",
      "2022-11-05 09:54:19.622149/ request failed\n",
      "2022-11-05 09:54:19.722898/ request failed\n",
      "2022-11-05 09:54:19.828132/ request failed\n"
     ]
    },
    {
     "name": "stdout",
     "output_type": "stream",
     "text": [
      "09:54:19/ request processed original requests: 09:54:04\n"
     ]
    },
    {
     "name": "stderr",
     "output_type": "stream",
     "text": [
      "2022-11-05 09:54:19.933438/ request success\n",
      "2022-11-05 09:54:20.038679/ request failed\n",
      "2022-11-05 09:54:20.140845/ request failed\n",
      "2022-11-05 09:54:20.246094/ request success\n"
     ]
    },
    {
     "name": "stdout",
     "output_type": "stream",
     "text": [
      "09:54:20/ request processed original requests: 09:54:04\n"
     ]
    },
    {
     "name": "stderr",
     "output_type": "stream",
     "text": [
      "2022-11-05 09:54:20.351340/ request failed\n",
      "2022-11-05 09:54:20.456537/ request failed\n"
     ]
    },
    {
     "name": "stdout",
     "output_type": "stream",
     "text": [
      "09:54:20/ request processed original requests: 09:54:04\n"
     ]
    },
    {
     "name": "stderr",
     "output_type": "stream",
     "text": [
      "2022-11-05 09:54:20.561858/ request success\n",
      "2022-11-05 09:54:20.667119/ request failed\n",
      "2022-11-05 09:54:20.769080/ request failed\n",
      "2022-11-05 09:54:20.871352/ request success\n"
     ]
    },
    {
     "name": "stdout",
     "output_type": "stream",
     "text": [
      "09:54:20/ request processed original requests: 09:54:04\n"
     ]
    },
    {
     "name": "stderr",
     "output_type": "stream",
     "text": [
      "2022-11-05 09:54:20.976984/ request failed\n",
      "2022-11-05 09:54:21.082276/ request failed\n",
      "2022-11-05 09:54:21.187443/ request failed\n",
      "2022-11-05 09:54:21.292682/ request success\n"
     ]
    },
    {
     "name": "stdout",
     "output_type": "stream",
     "text": [
      "09:54:21/ request processed original requests: 09:54:04\n"
     ]
    },
    {
     "name": "stderr",
     "output_type": "stream",
     "text": [
      "2022-11-05 09:54:21.398219/ request failed\n",
      "2022-11-05 09:54:21.503484/ request failed\n"
     ]
    },
    {
     "name": "stdout",
     "output_type": "stream",
     "text": [
      "09:54:21/ request processed original requests: 09:54:04\n"
     ]
    },
    {
     "name": "stderr",
     "output_type": "stream",
     "text": [
      "2022-11-05 09:54:21.606366/ request success\n",
      "2022-11-05 09:54:21.711586/ request failed\n",
      "2022-11-05 09:54:21.812127/ request failed\n",
      "2022-11-05 09:54:21.916109/ request success\n"
     ]
    },
    {
     "name": "stdout",
     "output_type": "stream",
     "text": [
      "09:54:21/ request processed original requests: 09:54:05\n"
     ]
    },
    {
     "name": "stderr",
     "output_type": "stream",
     "text": [
      "2022-11-05 09:54:22.016776/ request failed\n",
      "2022-11-05 09:54:22.121985/ request failed\n"
     ]
    },
    {
     "name": "stdout",
     "output_type": "stream",
     "text": [
      "09:54:22/ request processed original requests: 09:54:05\n"
     ]
    },
    {
     "name": "stderr",
     "output_type": "stream",
     "text": [
      "2022-11-05 09:54:22.227253/ request success\n",
      "2022-11-05 09:54:22.332405/ request failed\n",
      "2022-11-05 09:54:22.437719/ request failed\n",
      "2022-11-05 09:54:22.540533/ request failed\n"
     ]
    },
    {
     "name": "stdout",
     "output_type": "stream",
     "text": [
      "09:54:22/ request processed original requests: 09:54:05\n"
     ]
    },
    {
     "name": "stderr",
     "output_type": "stream",
     "text": [
      "2022-11-05 09:54:22.641415/ request success\n",
      "2022-11-05 09:54:22.746629/ request failed\n",
      "2022-11-05 09:54:22.851884/ request failed\n",
      "2022-11-05 09:54:22.957169/ request success\n"
     ]
    },
    {
     "name": "stdout",
     "output_type": "stream",
     "text": [
      "09:54:22/ request processed original requests: 09:54:05\n"
     ]
    },
    {
     "name": "stderr",
     "output_type": "stream",
     "text": [
      "2022-11-05 09:54:23.060938/ request failed\n",
      "2022-11-05 09:54:23.162281/ request failed\n"
     ]
    },
    {
     "name": "stdout",
     "output_type": "stream",
     "text": [
      "09:54:23/ request processed original requests: 09:54:05\n"
     ]
    },
    {
     "name": "stderr",
     "output_type": "stream",
     "text": [
      "2022-11-05 09:54:23.267524/ request success\n",
      "2022-11-05 09:54:23.372764/ request failed\n",
      "2022-11-05 09:54:23.478040/ request failed\n",
      "2022-11-05 09:54:23.583499/ request success\n"
     ]
    },
    {
     "name": "stdout",
     "output_type": "stream",
     "text": [
      "09:54:23/ request processed original requests: 09:54:05\n"
     ]
    },
    {
     "name": "stderr",
     "output_type": "stream",
     "text": [
      "2022-11-05 09:54:23.688720/ request failed\n",
      "2022-11-05 09:54:23.793912/ request failed\n",
      "2022-11-05 09:54:23.899134/ request failed\n",
      "2022-11-05 09:54:24.004412/ request success\n"
     ]
    },
    {
     "name": "stdout",
     "output_type": "stream",
     "text": [
      "09:54:23/ request processed original requests: 09:54:05\n"
     ]
    },
    {
     "name": "stderr",
     "output_type": "stream",
     "text": [
      "2022-11-05 09:54:24.108941/ request failed\n",
      "2022-11-05 09:54:24.212850/ request failed\n"
     ]
    },
    {
     "name": "stdout",
     "output_type": "stream",
     "text": [
      "09:54:24/ request processed original requests: 09:54:05\n"
     ]
    },
    {
     "name": "stderr",
     "output_type": "stream",
     "text": [
      "2022-11-05 09:54:24.313870/ request success\n",
      "2022-11-05 09:54:24.419058/ request failed\n",
      "2022-11-05 09:54:24.524327/ request failed\n",
      "2022-11-05 09:54:24.629577/ request success\n"
     ]
    },
    {
     "name": "stdout",
     "output_type": "stream",
     "text": [
      "09:54:24/ request processed original requests: 09:54:05\n"
     ]
    },
    {
     "name": "stderr",
     "output_type": "stream",
     "text": [
      "2022-11-05 09:54:24.734838/ request failed\n",
      "2022-11-05 09:54:24.840154/ request failed\n"
     ]
    },
    {
     "name": "stdout",
     "output_type": "stream",
     "text": [
      "09:54:24/ request processed original requests: 09:54:05\n"
     ]
    },
    {
     "name": "stderr",
     "output_type": "stream",
     "text": [
      "2022-11-05 09:54:24.941167/ request success\n",
      "2022-11-05 09:54:25.041899/ request failed\n",
      "2022-11-05 09:54:25.145172/ request failed\n",
      "2022-11-05 09:54:25.250328/ request failed\n"
     ]
    },
    {
     "name": "stdout",
     "output_type": "stream",
     "text": [
      "09:54:25/ request processed original requests: 09:54:06\n"
     ]
    },
    {
     "name": "stderr",
     "output_type": "stream",
     "text": [
      "2022-11-05 09:54:25.355569/ request success\n",
      "2022-11-05 09:54:25.459266/ request failed\n",
      "2022-11-05 09:54:25.564242/ request failed\n",
      "2022-11-05 09:54:25.669562/ request success\n"
     ]
    },
    {
     "name": "stdout",
     "output_type": "stream",
     "text": [
      "09:54:25/ request processed original requests: 09:54:06\n"
     ]
    },
    {
     "name": "stderr",
     "output_type": "stream",
     "text": [
      "2022-11-05 09:54:25.774831/ request failed\n",
      "2022-11-05 09:54:25.876958/ request failed\n"
     ]
    },
    {
     "name": "stdout",
     "output_type": "stream",
     "text": [
      "09:54:25/ request processed original requests: 09:54:06\n"
     ]
    },
    {
     "name": "stderr",
     "output_type": "stream",
     "text": [
      "2022-11-05 09:54:25.980167/ request success\n",
      "2022-11-05 09:54:26.085396/ request failed\n",
      "2022-11-05 09:54:26.188942/ request failed\n",
      "2022-11-05 09:54:26.290764/ request success\n"
     ]
    },
    {
     "name": "stdout",
     "output_type": "stream",
     "text": [
      "09:54:26/ request processed original requests: 09:54:06\n"
     ]
    },
    {
     "name": "stderr",
     "output_type": "stream",
     "text": [
      "2022-11-05 09:54:26.391026/ request failed\n",
      "2022-11-05 09:54:26.491668/ request failed\n",
      "2022-11-05 09:54:26.592856/ request failed\n",
      "2022-11-05 09:54:26.694565/ request success\n"
     ]
    },
    {
     "name": "stdout",
     "output_type": "stream",
     "text": [
      "09:54:26/ request processed original requests: 09:54:06\n"
     ]
    },
    {
     "name": "stderr",
     "output_type": "stream",
     "text": [
      "2022-11-05 09:54:26.795027/ request failed\n",
      "2022-11-05 09:54:26.900264/ request failed\n"
     ]
    },
    {
     "name": "stdout",
     "output_type": "stream",
     "text": [
      "09:54:26/ request processed original requests: 09:54:06\n"
     ]
    }
   ],
   "source": [
    "from threading import Lock, Thread\n",
    "from datetime import datetime\n",
    "from collections import deque\n",
    "import time\n",
    "import sys\n",
    "\n",
    "lock = Lock()\n",
    "queue = deque()\n",
    "BUCKET_CAPACITY = 100\n",
    "LEAK_PER_SEC = 3\n",
    "REQUEST_PER_SEC = 10\n",
    "\n",
    "def process():\n",
    "    if not len(queue):\n",
    "        return None\n",
    "    with lock:\n",
    "        return queue.popleft()\n",
    "        \n",
    "\n",
    "def request():\n",
    "    if len(queue) >= BUCKET_CAPACITY:\n",
    "        return False\n",
    "    with lock:\n",
    "        queue.append(datetime.now())\n",
    "        return True\n",
    "    \n",
    "    \n",
    "def process_in_seq():\n",
    "    while True:\n",
    "        time.sleep(1 / LEAK_PER_SEC)\n",
    "        res = process()\n",
    "        if res:\n",
    "            print(f'{datetime.now():%H:%M:%S}/ request processed original requests: {res:%H:%M:%S}')\n",
    "        else:\n",
    "            print(f'{datetime.now()}/ nothing to process', file=sys.stderr)\n",
    "        \n",
    "def request_in_seq():\n",
    "    while True:\n",
    "        time.sleep(1 / REQUEST_PER_SEC)\n",
    "        res = request()\n",
    "        if res:\n",
    "            print(f'{datetime.now()}/ request success', file=sys.stderr)\n",
    "        else:\n",
    "            print(f'{datetime.now()}/ request failed', file=sys.stderr)\n",
    "            \n",
    "\n",
    "process_thread = Thread(target=process_in_seq)\n",
    "process_thread.start()\n",
    "\n",
    "request_thread = Thread(target=request_in_seq)\n",
    "request_thread.start()"
   ]
  },
  {
   "cell_type": "code",
   "execution_count": null,
   "id": "d6315e25",
   "metadata": {},
   "outputs": [],
   "source": []
  },
  {
   "cell_type": "code",
   "execution_count": null,
   "id": "1b5a918d",
   "metadata": {},
   "outputs": [],
   "source": [
    "from threading import Thread\n",
    "\n"
   ]
  }
 ],
 "metadata": {
  "kernelspec": {
   "display_name": "Python 3 (ipykernel)",
   "language": "python",
   "name": "python3"
  },
  "language_info": {
   "codemirror_mode": {
    "name": "ipython",
    "version": 3
   },
   "file_extension": ".py",
   "mimetype": "text/x-python",
   "name": "python",
   "nbconvert_exporter": "python",
   "pygments_lexer": "ipython3",
   "version": "3.9.12"
  }
 },
 "nbformat": 4,
 "nbformat_minor": 5
}
