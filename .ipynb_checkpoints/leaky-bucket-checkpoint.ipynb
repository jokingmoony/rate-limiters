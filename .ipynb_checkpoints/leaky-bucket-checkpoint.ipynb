{
 "cells": [
  {
   "cell_type": "code",
   "execution_count": 1,
   "id": "6efca269",
   "metadata": {},
   "outputs": [
    {
     "name": "stderr",
     "output_type": "stream",
     "text": [
      "2022-11-03 00:03:43.383197/ request success\n",
      "2022-11-03 00:03:43.489353/ request success\n",
      "2022-11-03 00:03:43.591362/ request success\n",
      "2022-11-03 00:03:43.696586/ request success\n"
     ]
    },
    {
     "name": "stdout",
     "output_type": "stream",
     "text": [
      "2022-11-03 00:03:43.616175/ request processed 2022-11-03 00:03:43.383173\n"
     ]
    },
    {
     "name": "stderr",
     "output_type": "stream",
     "text": [
      "2022-11-03 00:03:43.801109/ request success\n",
      "2022-11-03 00:03:43.903782/ request success\n"
     ]
    },
    {
     "name": "stdout",
     "output_type": "stream",
     "text": [
      "2022-11-03 00:03:43.953312/ request processed 2022-11-03 00:03:43.489332\n"
     ]
    },
    {
     "name": "stderr",
     "output_type": "stream",
     "text": [
      "2022-11-03 00:03:44.007001/ request success\n",
      "2022-11-03 00:03:44.107591/ request success\n",
      "2022-11-03 00:03:44.212811/ request success\n",
      "2022-11-03 00:03:44.317981/ request success\n"
     ]
    },
    {
     "name": "stdout",
     "output_type": "stream",
     "text": [
      "2022-11-03 00:03:44.291945/ request processed 2022-11-03 00:03:43.591353\n"
     ]
    },
    {
     "name": "stderr",
     "output_type": "stream",
     "text": [
      "2022-11-03 00:03:44.423146/ request success\n",
      "2022-11-03 00:03:44.526988/ request success\n"
     ]
    },
    {
     "name": "stdout",
     "output_type": "stream",
     "text": [
      "2022-11-03 00:03:44.625753/ request processed 2022-11-03 00:03:43.696566\n"
     ]
    },
    {
     "name": "stderr",
     "output_type": "stream",
     "text": [
      "2022-11-03 00:03:44.632215/ request success\n",
      "2022-11-03 00:03:44.734809/ request success\n",
      "2022-11-03 00:03:44.835945/ request success\n",
      "2022-11-03 00:03:44.941221/ request success\n"
     ]
    },
    {
     "name": "stdout",
     "output_type": "stream",
     "text": [
      "2022-11-03 00:03:44.960238/ request processed 2022-11-03 00:03:43.801098\n"
     ]
    },
    {
     "name": "stderr",
     "output_type": "stream",
     "text": [
      "2022-11-03 00:03:45.044488/ request success\n",
      "2022-11-03 00:03:45.149738/ request success\n",
      "2022-11-03 00:03:45.252516/ request success\n",
      "2022-11-03 00:03:45.357722/ request success\n"
     ]
    },
    {
     "name": "stdout",
     "output_type": "stream",
     "text": [
      "2022-11-03 00:03:45.298768/ request processed 2022-11-03 00:03:43.903752\n"
     ]
    },
    {
     "name": "stderr",
     "output_type": "stream",
     "text": [
      "2022-11-03 00:03:45.462906/ request success\n",
      "2022-11-03 00:03:45.566854/ request success\n"
     ]
    },
    {
     "name": "stdout",
     "output_type": "stream",
     "text": [
      "2022-11-03 00:03:45.637446/ request processed 2022-11-03 00:03:44.006991\n"
     ]
    },
    {
     "name": "stderr",
     "output_type": "stream",
     "text": [
      "2022-11-03 00:03:45.672548/ request success\n",
      "2022-11-03 00:03:45.777837/ request success\n",
      "2022-11-03 00:03:45.883149/ request success\n",
      "2022-11-03 00:03:45.986290/ request success\n"
     ]
    },
    {
     "name": "stdout",
     "output_type": "stream",
     "text": [
      "2022-11-03 00:03:45.973984/ request processed 2022-11-03 00:03:44.107576\n"
     ]
    },
    {
     "name": "stderr",
     "output_type": "stream",
     "text": [
      "2022-11-03 00:03:46.087362/ request success\n",
      "2022-11-03 00:03:46.187937/ request success\n",
      "2022-11-03 00:03:46.289869/ request success\n",
      "2022-11-03 00:03:46.395004/ request success\n"
     ]
    },
    {
     "name": "stdout",
     "output_type": "stream",
     "text": [
      "2022-11-03 00:03:46.312595/ request processed 2022-11-03 00:03:44.212801\n"
     ]
    },
    {
     "name": "stderr",
     "output_type": "stream",
     "text": [
      "2022-11-03 00:03:46.500190/ request success\n",
      "2022-11-03 00:03:46.601846/ request success\n"
     ]
    },
    {
     "name": "stdout",
     "output_type": "stream",
     "text": [
      "2022-11-03 00:03:46.651423/ request processed 2022-11-03 00:03:44.317974\n"
     ]
    },
    {
     "name": "stderr",
     "output_type": "stream",
     "text": [
      "2022-11-03 00:03:46.704240/ request success\n",
      "2022-11-03 00:03:46.809458/ request success\n",
      "2022-11-03 00:03:46.910353/ request success\n",
      "2022-11-03 00:03:47.015634/ request success\n"
     ]
    },
    {
     "name": "stdout",
     "output_type": "stream",
     "text": [
      "2022-11-03 00:03:46.986647/ request processed 2022-11-03 00:03:44.423135\n"
     ]
    },
    {
     "name": "stderr",
     "output_type": "stream",
     "text": [
      "2022-11-03 00:03:47.119586/ request success\n",
      "2022-11-03 00:03:47.224840/ request success\n"
     ]
    },
    {
     "name": "stdout",
     "output_type": "stream",
     "text": [
      "2022-11-03 00:03:47.321681/ request processed 2022-11-03 00:03:44.526967\n"
     ]
    },
    {
     "name": "stderr",
     "output_type": "stream",
     "text": [
      "2022-11-03 00:03:47.330047/ request success\n",
      "2022-11-03 00:03:47.435334/ request success\n",
      "2022-11-03 00:03:47.538491/ request success\n",
      "2022-11-03 00:03:47.643775/ request success\n"
     ]
    },
    {
     "name": "stdout",
     "output_type": "stream",
     "text": [
      "2022-11-03 00:03:47.660265/ request processed 2022-11-03 00:03:44.632207\n"
     ]
    },
    {
     "name": "stderr",
     "output_type": "stream",
     "text": [
      "2022-11-03 00:03:47.748462/ request success\n",
      "2022-11-03 00:03:47.851979/ request success\n",
      "2022-11-03 00:03:47.953791/ request success\n",
      "2022-11-03 00:03:48.058946/ request success\n"
     ]
    },
    {
     "name": "stdout",
     "output_type": "stream",
     "text": [
      "2022-11-03 00:03:47.997371/ request processed 2022-11-03 00:03:44.734786\n"
     ]
    },
    {
     "name": "stderr",
     "output_type": "stream",
     "text": [
      "2022-11-03 00:03:48.161261/ request success\n",
      "2022-11-03 00:03:48.266732/ request success\n"
     ]
    },
    {
     "name": "stdout",
     "output_type": "stream",
     "text": [
      "2022-11-03 00:03:48.335261/ request processed 2022-11-03 00:03:44.835935\n"
     ]
    },
    {
     "name": "stderr",
     "output_type": "stream",
     "text": [
      "2022-11-03 00:03:48.372411/ request success\n",
      "2022-11-03 00:03:48.475211/ request success\n",
      "2022-11-03 00:03:48.576900/ request success\n",
      "2022-11-03 00:03:48.682041/ request success\n"
     ]
    },
    {
     "name": "stdout",
     "output_type": "stream",
     "text": [
      "2022-11-03 00:03:48.670239/ request processed 2022-11-03 00:03:44.941198\n"
     ]
    },
    {
     "name": "stderr",
     "output_type": "stream",
     "text": [
      "2022-11-03 00:03:48.786898/ request success\n",
      "2022-11-03 00:03:48.892378/ request success\n",
      "2022-11-03 00:03:48.997649/ request success\n",
      "2022-11-03 00:03:49.099485/ request success\n"
     ]
    },
    {
     "name": "stdout",
     "output_type": "stream",
     "text": [
      "2022-11-03 00:03:49.008927/ request processed 2022-11-03 00:03:45.044477\n"
     ]
    },
    {
     "name": "stderr",
     "output_type": "stream",
     "text": [
      "2022-11-03 00:03:49.200221/ request success\n",
      "2022-11-03 00:03:49.303301/ request success\n"
     ]
    },
    {
     "name": "stdout",
     "output_type": "stream",
     "text": [
      "2022-11-03 00:03:49.346479/ request processed 2022-11-03 00:03:45.149717\n"
     ]
    },
    {
     "name": "stderr",
     "output_type": "stream",
     "text": [
      "2022-11-03 00:03:49.404024/ request success\n",
      "2022-11-03 00:03:49.509287/ request success\n",
      "2022-11-03 00:03:49.610274/ request success\n",
      "2022-11-03 00:03:49.710761/ request success\n"
     ]
    },
    {
     "name": "stdout",
     "output_type": "stream",
     "text": [
      "2022-11-03 00:03:49.685099/ request processed 2022-11-03 00:03:45.252505\n"
     ]
    },
    {
     "name": "stderr",
     "output_type": "stream",
     "text": [
      "2022-11-03 00:03:49.815940/ request success\n",
      "2022-11-03 00:03:49.916504/ request success\n",
      "2022-11-03 00:03:50.021008/ request success\n",
      "2022-11-03 00:03:50.122096/ request success\n"
     ]
    },
    {
     "name": "stdout",
     "output_type": "stream",
     "text": [
      "2022-11-03 00:03:50.021074/ request processed 2022-11-03 00:03:45.357699\n"
     ]
    },
    {
     "name": "stderr",
     "output_type": "stream",
     "text": [
      "2022-11-03 00:03:50.227348/ request success\n",
      "2022-11-03 00:03:50.332575/ request success\n"
     ]
    },
    {
     "name": "stdout",
     "output_type": "stream",
     "text": [
      "2022-11-03 00:03:50.355233/ request processed 2022-11-03 00:03:45.462893\n"
     ]
    },
    {
     "name": "stderr",
     "output_type": "stream",
     "text": [
      "2022-11-03 00:03:50.437867/ request success\n",
      "2022-11-03 00:03:50.542342/ request success\n",
      "2022-11-03 00:03:50.645783/ request success\n",
      "2022-11-03 00:03:50.747873/ request success\n"
     ]
    },
    {
     "name": "stdout",
     "output_type": "stream",
     "text": [
      "2022-11-03 00:03:50.694014/ request processed 2022-11-03 00:03:45.566828\n"
     ]
    },
    {
     "name": "stderr",
     "output_type": "stream",
     "text": [
      "2022-11-03 00:03:50.849299/ request success\n",
      "2022-11-03 00:03:50.954413/ request success\n"
     ]
    },
    {
     "name": "stdout",
     "output_type": "stream",
     "text": [
      "2022-11-03 00:03:51.030254/ request processed 2022-11-03 00:03:45.672538\n"
     ]
    },
    {
     "name": "stderr",
     "output_type": "stream",
     "text": [
      "2022-11-03 00:03:51.055410/ request success\n",
      "2022-11-03 00:03:51.160649/ request success\n",
      "2022-11-03 00:03:51.265936/ request success\n",
      "2022-11-03 00:03:51.367911/ request success\n"
     ]
    },
    {
     "name": "stdout",
     "output_type": "stream",
     "text": [
      "2022-11-03 00:03:51.368881/ request processed 2022-11-03 00:03:45.777807\n"
     ]
    },
    {
     "name": "stderr",
     "output_type": "stream",
     "text": [
      "2022-11-03 00:03:51.473149/ request success\n",
      "2022-11-03 00:03:51.578336/ request success\n",
      "2022-11-03 00:03:51.683532/ request success\n",
      "2022-11-03 00:03:51.788740/ request success\n"
     ]
    },
    {
     "name": "stdout",
     "output_type": "stream",
     "text": [
      "2022-11-03 00:03:51.702424/ request processed 2022-11-03 00:03:45.883137\n"
     ]
    },
    {
     "name": "stderr",
     "output_type": "stream",
     "text": [
      "2022-11-03 00:03:51.894056/ request success\n",
      "2022-11-03 00:03:51.999298/ request success\n"
     ]
    },
    {
     "name": "stdout",
     "output_type": "stream",
     "text": [
      "2022-11-03 00:03:52.041052/ request processed 2022-11-03 00:03:45.986281\n"
     ]
    },
    {
     "name": "stderr",
     "output_type": "stream",
     "text": [
      "2022-11-03 00:03:52.101204/ request success\n",
      "2022-11-03 00:03:52.206420/ request success\n",
      "2022-11-03 00:03:52.310223/ request success\n",
      "2022-11-03 00:03:52.415432/ request success\n"
     ]
    },
    {
     "name": "stdout",
     "output_type": "stream",
     "text": [
      "2022-11-03 00:03:52.376947/ request processed 2022-11-03 00:03:46.087355\n"
     ]
    },
    {
     "name": "stderr",
     "output_type": "stream",
     "text": [
      "2022-11-03 00:03:52.520546/ request success\n",
      "2022-11-03 00:03:52.625776/ request success\n"
     ]
    },
    {
     "name": "stdout",
     "output_type": "stream",
     "text": [
      "2022-11-03 00:03:52.715614/ request processed 2022-11-03 00:03:46.187921\n"
     ]
    },
    {
     "name": "stderr",
     "output_type": "stream",
     "text": [
      "2022-11-03 00:03:52.731099/ request success\n",
      "2022-11-03 00:03:52.836444/ request success\n",
      "2022-11-03 00:03:52.941765/ request success\n",
      "2022-11-03 00:03:53.047031/ request success\n"
     ]
    },
    {
     "name": "stdout",
     "output_type": "stream",
     "text": [
      "2022-11-03 00:03:53.049234/ request processed 2022-11-03 00:03:46.289858\n"
     ]
    },
    {
     "name": "stderr",
     "output_type": "stream",
     "text": [
      "2022-11-03 00:03:53.152325/ request success\n",
      "2022-11-03 00:03:53.257556/ request success\n",
      "2022-11-03 00:03:53.362700/ request success\n",
      "2022-11-03 00:03:53.467914/ request success\n"
     ]
    },
    {
     "name": "stdout",
     "output_type": "stream",
     "text": [
      "2022-11-03 00:03:53.387736/ request processed 2022-11-03 00:03:46.394991\n"
     ]
    },
    {
     "name": "stderr",
     "output_type": "stream",
     "text": [
      "2022-11-03 00:03:53.570346/ request success\n",
      "2022-11-03 00:03:53.671100/ request success\n"
     ]
    },
    {
     "name": "stdout",
     "output_type": "stream",
     "text": [
      "2022-11-03 00:03:53.726410/ request processed 2022-11-03 00:03:46.500181\n"
     ]
    },
    {
     "name": "stderr",
     "output_type": "stream",
     "text": [
      "2022-11-03 00:03:53.772391/ request success\n",
      "2022-11-03 00:03:53.876946/ request success\n",
      "2022-11-03 00:03:53.982630/ request success\n",
      "2022-11-03 00:03:54.083875/ request success\n"
     ]
    },
    {
     "name": "stdout",
     "output_type": "stream",
     "text": [
      "2022-11-03 00:03:54.060254/ request processed 2022-11-03 00:03:46.601822\n"
     ]
    },
    {
     "name": "stderr",
     "output_type": "stream",
     "text": [
      "2022-11-03 00:03:54.185206/ request success\n",
      "2022-11-03 00:03:54.288681/ request success\n",
      "2022-11-03 00:03:54.394346/ request success\n",
      "2022-11-03 00:03:54.495386/ request success\n"
     ]
    },
    {
     "name": "stdout",
     "output_type": "stream",
     "text": [
      "2022-11-03 00:03:54.394905/ request processed 2022-11-03 00:03:46.704231\n"
     ]
    },
    {
     "name": "stderr",
     "output_type": "stream",
     "text": [
      "2022-11-03 00:03:54.596400/ request success\n",
      "2022-11-03 00:03:54.700773/ request success\n"
     ]
    },
    {
     "name": "stdout",
     "output_type": "stream",
     "text": [
      "2022-11-03 00:03:54.733390/ request processed 2022-11-03 00:03:46.809435\n"
     ]
    },
    {
     "name": "stderr",
     "output_type": "stream",
     "text": [
      "2022-11-03 00:03:54.801033/ request success\n",
      "2022-11-03 00:03:54.906202/ request success\n",
      "2022-11-03 00:03:55.011846/ request success\n",
      "2022-11-03 00:03:55.117122/ request success\n"
     ]
    },
    {
     "name": "stdout",
     "output_type": "stream",
     "text": [
      "2022-11-03 00:03:55.068456/ request processed 2022-11-03 00:03:46.910345\n"
     ]
    },
    {
     "name": "stderr",
     "output_type": "stream",
     "text": [
      "2022-11-03 00:03:55.219275/ request success\n",
      "2022-11-03 00:03:55.324508/ request success\n"
     ]
    },
    {
     "name": "stdout",
     "output_type": "stream",
     "text": [
      "2022-11-03 00:03:55.402586/ request processed 2022-11-03 00:03:47.015626\n"
     ]
    },
    {
     "name": "stderr",
     "output_type": "stream",
     "text": [
      "2022-11-03 00:03:55.429803/ request success\n",
      "2022-11-03 00:03:55.530335/ request success\n",
      "2022-11-03 00:03:55.635197/ request success\n",
      "2022-11-03 00:03:55.740435/ request success\n"
     ]
    },
    {
     "name": "stdout",
     "output_type": "stream",
     "text": [
      "2022-11-03 00:03:55.741045/ request processed 2022-11-03 00:03:47.119574\n"
     ]
    },
    {
     "name": "stderr",
     "output_type": "stream",
     "text": [
      "2022-11-03 00:03:55.845741/ request success\n",
      "2022-11-03 00:03:55.945976/ request success\n",
      "2022-11-03 00:03:56.047834/ request success\n",
      "2022-11-03 00:03:56.152035/ request success\n"
     ]
    },
    {
     "name": "stdout",
     "output_type": "stream",
     "text": [
      "2022-11-03 00:03:56.077101/ request processed 2022-11-03 00:03:47.224823\n"
     ]
    },
    {
     "name": "stderr",
     "output_type": "stream",
     "text": [
      "2022-11-03 00:03:56.257193/ request success\n",
      "2022-11-03 00:03:56.362461/ request success\n"
     ]
    },
    {
     "name": "stdout",
     "output_type": "stream",
     "text": [
      "2022-11-03 00:03:56.415773/ request processed 2022-11-03 00:03:47.330037\n"
     ]
    },
    {
     "name": "stderr",
     "output_type": "stream",
     "text": [
      "2022-11-03 00:03:56.467790/ request success\n",
      "2022-11-03 00:03:56.568630/ request success\n",
      "2022-11-03 00:03:56.669419/ request success\n",
      "2022-11-03 00:03:56.774797/ request success\n"
     ]
    },
    {
     "name": "stdout",
     "output_type": "stream",
     "text": [
      "2022-11-03 00:03:56.753643/ request processed 2022-11-03 00:03:47.435313\n"
     ]
    },
    {
     "name": "stderr",
     "output_type": "stream",
     "text": [
      "2022-11-03 00:03:56.879959/ request success\n",
      "2022-11-03 00:03:56.980926/ request success\n",
      "2022-11-03 00:03:57.081503/ request success\n"
     ]
    },
    {
     "name": "stdout",
     "output_type": "stream",
     "text": [
      "2022-11-03 00:03:57.092321/ request processed 2022-11-03 00:03:47.538478\n"
     ]
    },
    {
     "name": "stderr",
     "output_type": "stream",
     "text": [
      "2022-11-03 00:03:57.181979/ request success\n",
      "2022-11-03 00:03:57.286254/ request success\n",
      "2022-11-03 00:03:57.391536/ request success\n",
      "2022-11-03 00:03:57.496829/ request success\n"
     ]
    },
    {
     "name": "stdout",
     "output_type": "stream",
     "text": [
      "2022-11-03 00:03:57.426895/ request processed 2022-11-03 00:03:47.643753\n"
     ]
    },
    {
     "name": "stderr",
     "output_type": "stream",
     "text": [
      "2022-11-03 00:03:57.602132/ request success\n",
      "2022-11-03 00:03:57.702510/ request success\n"
     ]
    },
    {
     "name": "stdout",
     "output_type": "stream",
     "text": [
      "2022-11-03 00:03:57.765619/ request processed 2022-11-03 00:03:47.748445\n"
     ]
    },
    {
     "name": "stderr",
     "output_type": "stream",
     "text": [
      "2022-11-03 00:03:57.804666/ request success\n",
      "2022-11-03 00:03:57.909905/ request success\n",
      "2022-11-03 00:03:58.010407/ request success\n",
      "2022-11-03 00:03:58.115558/ request success\n"
     ]
    },
    {
     "name": "stdout",
     "output_type": "stream",
     "text": [
      "2022-11-03 00:03:58.104335/ request processed 2022-11-03 00:03:47.851958\n"
     ]
    },
    {
     "name": "stderr",
     "output_type": "stream",
     "text": [
      "2022-11-03 00:03:58.216825/ request success\n",
      "2022-11-03 00:03:58.318679/ request failed\n",
      "2022-11-03 00:03:58.419281/ request failed\n",
      "2022-11-03 00:03:58.520093/ request success\n"
     ]
    },
    {
     "name": "stdout",
     "output_type": "stream",
     "text": [
      "2022-11-03 00:03:58.439106/ request processed 2022-11-03 00:03:47.953782\n"
     ]
    },
    {
     "name": "stderr",
     "output_type": "stream",
     "text": [
      "2022-11-03 00:03:58.621279/ request failed\n",
      "2022-11-03 00:03:58.726677/ request failed\n"
     ]
    },
    {
     "name": "stdout",
     "output_type": "stream",
     "text": [
      "2022-11-03 00:03:58.777814/ request processed 2022-11-03 00:03:48.058942\n"
     ]
    },
    {
     "name": "stderr",
     "output_type": "stream",
     "text": [
      "2022-11-03 00:03:58.827077/ request success\n",
      "2022-11-03 00:03:58.932278/ request failed\n",
      "2022-11-03 00:03:59.037557/ request failed\n",
      "2022-11-03 00:03:59.142753/ request success\n"
     ]
    },
    {
     "name": "stdout",
     "output_type": "stream",
     "text": [
      "2022-11-03 00:03:59.116518/ request processed 2022-11-03 00:03:48.161250\n"
     ]
    },
    {
     "name": "stderr",
     "output_type": "stream",
     "text": [
      "2022-11-03 00:03:59.247941/ request failed\n",
      "2022-11-03 00:03:59.353186/ request failed\n"
     ]
    },
    {
     "name": "stdout",
     "output_type": "stream",
     "text": [
      "2022-11-03 00:03:59.452794/ request processed 2022-11-03 00:03:48.266705\n"
     ]
    },
    {
     "name": "stderr",
     "output_type": "stream",
     "text": [
      "2022-11-03 00:03:59.455059/ request success\n",
      "2022-11-03 00:03:59.555742/ request failed\n",
      "2022-11-03 00:03:59.661083/ request failed\n",
      "2022-11-03 00:03:59.764622/ request failed\n"
     ]
    },
    {
     "name": "stdout",
     "output_type": "stream",
     "text": [
      "2022-11-03 00:03:59.791316/ request processed 2022-11-03 00:03:48.372396\n"
     ]
    },
    {
     "name": "stderr",
     "output_type": "stream",
     "text": [
      "2022-11-03 00:03:59.869701/ request success\n",
      "2022-11-03 00:03:59.969995/ request failed\n",
      "2022-11-03 00:04:00.071358/ request failed\n",
      "2022-11-03 00:04:00.173769/ request success\n"
     ]
    },
    {
     "name": "stdout",
     "output_type": "stream",
     "text": [
      "2022-11-03 00:04:00.129830/ request processed 2022-11-03 00:03:48.475182\n"
     ]
    },
    {
     "name": "stderr",
     "output_type": "stream",
     "text": [
      "2022-11-03 00:04:00.276918/ request failed\n",
      "2022-11-03 00:04:00.382099/ request failed\n"
     ]
    },
    {
     "name": "stdout",
     "output_type": "stream",
     "text": [
      "2022-11-03 00:04:00.468393/ request processed 2022-11-03 00:03:48.576894\n"
     ]
    },
    {
     "name": "stderr",
     "output_type": "stream",
     "text": [
      "2022-11-03 00:04:00.486057/ request success\n",
      "2022-11-03 00:04:00.591274/ request failed\n",
      "2022-11-03 00:04:00.696519/ request failed\n",
      "2022-11-03 00:04:00.801838/ request failed\n"
     ]
    },
    {
     "name": "stdout",
     "output_type": "stream",
     "text": [
      "2022-11-03 00:04:00.802535/ request processed 2022-11-03 00:03:48.682037\n"
     ]
    },
    {
     "name": "stderr",
     "output_type": "stream",
     "text": [
      "2022-11-03 00:04:00.907204/ request success\n",
      "2022-11-03 00:04:01.012422/ request failed\n",
      "2022-11-03 00:04:01.117733/ request failed\n",
      "2022-11-03 00:04:01.221987/ request success\n"
     ]
    },
    {
     "name": "stdout",
     "output_type": "stream",
     "text": [
      "2022-11-03 00:04:01.137197/ request processed 2022-11-03 00:03:48.786885\n"
     ]
    },
    {
     "name": "stderr",
     "output_type": "stream",
     "text": [
      "2022-11-03 00:04:01.326358/ request failed\n",
      "2022-11-03 00:04:01.429411/ request failed\n"
     ]
    }
   ],
   "source": [
    "from collections import deque\n",
    "from threading import Lock\n",
    "from datetime import datetime\n",
    "from threading import Thread\n",
    "import time\n",
    "import sys\n",
    "\n",
    "lock = Lock()\n",
    "queue = deque()\n",
    "BUCKET_CAPACITY = 100\n",
    "LEAK_PER_SEC = 3\n",
    "REQUEST_PER_SEC = 10\n",
    "\n",
    "def process():\n",
    "    if not len(queue):\n",
    "        return None\n",
    "    \n",
    "    with lock:\n",
    "        return queue.popleft()\n",
    "        \n",
    "\n",
    "def process_in_seq():\n",
    "    while True:\n",
    "        time.sleep(1 / LEAK_PER_SEC)\n",
    "        res = process()\n",
    "        if res:\n",
    "            print(f'{datetime.now():%H%M%S}/ request processed', res)\n",
    "        else:\n",
    "            print(f'{datetime.now()}/ nothing to process', file=sys.stderr)\n",
    "\n",
    "\n",
    "def request():\n",
    "    if len(queue) >= BUCKET_CAPACITY:\n",
    "        return False\n",
    "    with lock:\n",
    "        queue.append(datetime.now())\n",
    "        return True\n",
    "        \n",
    "def request_in_seq():\n",
    "    while True:\n",
    "        time.sleep(1 / REQUEST_PER_SEC)\n",
    "        res = request()\n",
    "        if res:\n",
    "            print(f'{datetime.now()}/ request success', file=sys.stderr)\n",
    "        else:\n",
    "            print(f'{datetime.now()}/ request failed', file=sys.stderr)\n",
    "            \n",
    "\n",
    "process_thread = Thread(target=process_in_seq)\n",
    "process_thread.start()\n",
    "\n",
    "request_thread = Thread(target=request_in_seq)\n",
    "request_thread.start()"
   ]
  },
  {
   "cell_type": "code",
   "execution_count": 2,
   "id": "18ab302a",
   "metadata": {},
   "outputs": [
    {
     "name": "stderr",
     "output_type": "stream",
     "text": [
      "2022-11-02 23:51:01.267721/ nothing to process\n",
      "2022-11-02 23:51:01.602684/ nothing to process\n",
      "2022-11-02 23:51:01.941155/ nothing to process\n"
     ]
    }
   ],
   "source": []
  },
  {
   "cell_type": "code",
   "execution_count": 3,
   "id": "6ad341cb",
   "metadata": {},
   "outputs": [
    {
     "name": "stderr",
     "output_type": "stream",
     "text": [
      "2022-11-02 23:51:02.279911/ nothing to process\n",
      "2022-11-02 23:51:02.562746/ request success\n",
      "2022-11-02 23:51:02.668917/ request success\n"
     ]
    },
    {
     "name": "stdout",
     "output_type": "stream",
     "text": [
      "2022-11-02 23:51:02.615333/ request processed 2022-11-02 23:51:02.562715\n"
     ]
    },
    {
     "name": "stderr",
     "output_type": "stream",
     "text": [
      "2022-11-02 23:51:02.770059/ request success\n",
      "2022-11-02 23:51:02.875310/ request success\n"
     ]
    },
    {
     "name": "stdout",
     "output_type": "stream",
     "text": [
      "2022-11-02 23:51:02.954134/ request processed 2022-11-02 23:51:02.668893\n"
     ]
    },
    {
     "name": "stderr",
     "output_type": "stream",
     "text": [
      "2022-11-02 23:51:02.975872/ request success\n",
      "2022-11-02 23:51:03.081431/ request success\n",
      "2022-11-02 23:51:03.186814/ request success\n",
      "2022-11-02 23:51:03.291193/ request success\n"
     ]
    },
    {
     "name": "stdout",
     "output_type": "stream",
     "text": [
      "2022-11-02 23:51:03.291370/ request processed 2022-11-02 23:51:02.770046\n"
     ]
    },
    {
     "name": "stderr",
     "output_type": "stream",
     "text": [
      "2022-11-02 23:51:03.395683/ request success\n",
      "2022-11-02 23:51:03.496284/ request success\n",
      "2022-11-02 23:51:03.597273/ request success\n",
      "2022-11-02 23:51:03.703244/ request success\n"
     ]
    },
    {
     "name": "stdout",
     "output_type": "stream",
     "text": [
      "2022-11-02 23:51:03.626042/ request processed 2022-11-02 23:51:02.875284\n"
     ]
    },
    {
     "name": "stderr",
     "output_type": "stream",
     "text": [
      "2022-11-02 23:51:03.808641/ request success\n",
      "2022-11-02 23:51:03.912978/ request success\n"
     ]
    },
    {
     "name": "stdout",
     "output_type": "stream",
     "text": [
      "2022-11-02 23:51:03.963223/ request processed 2022-11-02 23:51:02.975861\n"
     ]
    },
    {
     "name": "stderr",
     "output_type": "stream",
     "text": [
      "2022-11-02 23:51:04.018267/ request success\n",
      "2022-11-02 23:51:04.123550/ request success\n",
      "2022-11-02 23:51:04.224621/ request success\n",
      "2022-11-02 23:51:04.325260/ request success\n"
     ]
    },
    {
     "name": "stdout",
     "output_type": "stream",
     "text": [
      "2022-11-02 23:51:04.299057/ request processed 2022-11-02 23:51:03.081402\n"
     ]
    },
    {
     "name": "stderr",
     "output_type": "stream",
     "text": [
      "2022-11-02 23:51:04.427460/ request success\n",
      "2022-11-02 23:51:04.532308/ request success\n",
      "2022-11-02 23:51:04.632643/ request success\n",
      "2022-11-02 23:51:04.736468/ request success\n"
     ]
    },
    {
     "name": "stdout",
     "output_type": "stream",
     "text": [
      "2022-11-02 23:51:04.634454/ request processed 2022-11-02 23:51:03.186789\n"
     ]
    },
    {
     "name": "stderr",
     "output_type": "stream",
     "text": [
      "2022-11-02 23:51:04.841131/ request success\n",
      "2022-11-02 23:51:04.946481/ request success\n"
     ]
    },
    {
     "name": "stdout",
     "output_type": "stream",
     "text": [
      "2022-11-02 23:51:04.973021/ request processed 2022-11-02 23:51:03.291166\n"
     ]
    },
    {
     "name": "stderr",
     "output_type": "stream",
     "text": [
      "2022-11-02 23:51:05.051869/ request success\n",
      "2022-11-02 23:51:05.157197/ request success\n",
      "2022-11-02 23:51:05.257979/ request success\n",
      "2022-11-02 23:51:05.363211/ request success\n"
     ]
    },
    {
     "name": "stdout",
     "output_type": "stream",
     "text": [
      "2022-11-02 23:51:05.310535/ request processed 2022-11-02 23:51:03.395664\n"
     ]
    },
    {
     "name": "stderr",
     "output_type": "stream",
     "text": [
      "2022-11-02 23:51:05.468571/ request success\n",
      "2022-11-02 23:51:05.573919/ request success\n"
     ]
    },
    {
     "name": "stdout",
     "output_type": "stream",
     "text": [
      "2022-11-02 23:51:05.649238/ request processed 2022-11-02 23:51:03.496272\n"
     ]
    },
    {
     "name": "stderr",
     "output_type": "stream",
     "text": [
      "2022-11-02 23:51:05.676348/ request success\n",
      "2022-11-02 23:51:05.781611/ request success\n",
      "2022-11-02 23:51:05.882291/ request success\n",
      "2022-11-02 23:51:05.987513/ request success\n"
     ]
    },
    {
     "name": "stdout",
     "output_type": "stream",
     "text": [
      "2022-11-02 23:51:05.987685/ request processed 2022-11-02 23:51:03.597242\n"
     ]
    },
    {
     "name": "stderr",
     "output_type": "stream",
     "text": [
      "2022-11-02 23:51:06.092913/ request success\n",
      "2022-11-02 23:51:06.195044/ request success\n",
      "2022-11-02 23:51:06.298981/ request success\n",
      "2022-11-02 23:51:06.399646/ request success\n"
     ]
    },
    {
     "name": "stdout",
     "output_type": "stream",
     "text": [
      "2022-11-02 23:51:06.326185/ request processed 2022-11-02 23:51:03.703210\n"
     ]
    },
    {
     "name": "stderr",
     "output_type": "stream",
     "text": [
      "2022-11-02 23:51:06.501204/ request success\n",
      "2022-11-02 23:51:06.606767/ request success\n"
     ]
    },
    {
     "name": "stdout",
     "output_type": "stream",
     "text": [
      "2022-11-02 23:51:06.664820/ request processed 2022-11-02 23:51:03.808624\n"
     ]
    },
    {
     "name": "stderr",
     "output_type": "stream",
     "text": [
      "2022-11-02 23:51:06.712136/ request success\n",
      "2022-11-02 23:51:06.817416/ request success\n",
      "2022-11-02 23:51:06.918383/ request success\n",
      "2022-11-02 23:51:07.019231/ request success\n"
     ]
    },
    {
     "name": "stdout",
     "output_type": "stream",
     "text": [
      "2022-11-02 23:51:07.004177/ request processed 2022-11-02 23:51:03.912956\n"
     ]
    },
    {
     "name": "stderr",
     "output_type": "stream",
     "text": [
      "2022-11-02 23:51:07.121153/ request success\n",
      "2022-11-02 23:51:07.225772/ request success\n",
      "2022-11-02 23:51:07.331107/ request success\n",
      "2022-11-02 23:51:07.436008/ request success\n"
     ]
    },
    {
     "name": "stdout",
     "output_type": "stream",
     "text": [
      "2022-11-02 23:51:07.341630/ request processed 2022-11-02 23:51:04.018252\n"
     ]
    },
    {
     "name": "stderr",
     "output_type": "stream",
     "text": [
      "2022-11-02 23:51:07.541375/ request success\n",
      "2022-11-02 23:51:07.644795/ request success\n"
     ]
    },
    {
     "name": "stdout",
     "output_type": "stream",
     "text": [
      "2022-11-02 23:51:07.680588/ request processed 2022-11-02 23:51:04.123525\n"
     ]
    },
    {
     "name": "stderr",
     "output_type": "stream",
     "text": [
      "2022-11-02 23:51:07.750058/ request success\n",
      "2022-11-02 23:51:07.855451/ request success\n"
     ]
    }
   ],
   "source": [
    "from threading import Thread\n",
    "\n"
   ]
  }
 ],
 "metadata": {
  "kernelspec": {
   "display_name": "Python 3 (ipykernel)",
   "language": "python",
   "name": "python3"
  },
  "language_info": {
   "codemirror_mode": {
    "name": "ipython",
    "version": 3
   },
   "file_extension": ".py",
   "mimetype": "text/x-python",
   "name": "python",
   "nbconvert_exporter": "python",
   "pygments_lexer": "ipython3",
   "version": "3.9.12"
  }
 },
 "nbformat": 4,
 "nbformat_minor": 5
}
