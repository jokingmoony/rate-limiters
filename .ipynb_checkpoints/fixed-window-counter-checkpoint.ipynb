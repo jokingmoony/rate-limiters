{
 "cells": [
  {
   "cell_type": "code",
   "execution_count": 1,
   "id": "f12d8600",
   "metadata": {},
   "outputs": [
    {
     "name": "stderr",
     "output_type": "stream",
     "text": [
      "reset counter\n"
     ]
    },
    {
     "name": "stdout",
     "output_type": "stream",
     "text": [
      "232455/ success\n",
      "232455/ success\n",
      "232455/ success\n",
      "232455/ success\n",
      "232455/ success\n",
      "232455/ success\n",
      "232455/ success\n",
      "232455/ success\n",
      "232455/ success\n",
      "232455/ success\n",
      "232455/ success\n"
     ]
    },
    {
     "name": "stderr",
     "output_type": "stream",
     "text": [
      "232455/ failed\n",
      "reset counter\n"
     ]
    },
    {
     "name": "stdout",
     "output_type": "stream",
     "text": [
      "232456/ success\n",
      "232456/ success\n",
      "232456/ success\n",
      "232456/ success\n",
      "232456/ success\n",
      "232456/ success\n",
      "232456/ success\n",
      "232456/ success\n",
      "232456/ success\n",
      "232456/ success\n",
      "232456/ success\n"
     ]
    },
    {
     "name": "stderr",
     "output_type": "stream",
     "text": [
      "232456/ failed\n",
      "232456/ failed\n",
      "232456/ failed\n",
      "232456/ failed\n",
      "232456/ failed\n",
      "232456/ failed\n",
      "232456/ failed\n",
      "232456/ failed\n",
      "232456/ failed\n",
      "232456/ failed\n",
      "232456/ failed\n",
      "232456/ failed\n",
      "232456/ failed\n",
      "232456/ failed\n",
      "232456/ failed\n",
      "232456/ failed\n",
      "reset counter\n"
     ]
    },
    {
     "name": "stdout",
     "output_type": "stream",
     "text": [
      "232457/ success\n",
      "232457/ success\n",
      "232457/ success\n",
      "232457/ success\n",
      "232457/ success\n",
      "232457/ success\n",
      "232457/ success\n",
      "232457/ success\n",
      "232457/ success\n",
      "232457/ success\n",
      "232457/ success\n"
     ]
    },
    {
     "name": "stderr",
     "output_type": "stream",
     "text": [
      "232457/ failed\n",
      "232457/ failed\n",
      "232457/ failed\n",
      "232457/ failed\n",
      "232457/ failed\n",
      "232457/ failed\n",
      "232457/ failed\n",
      "232457/ failed\n",
      "232457/ failed\n",
      "232457/ failed\n",
      "232457/ failed\n",
      "232457/ failed\n",
      "232457/ failed\n",
      "232457/ failed\n",
      "232457/ failed\n",
      "232457/ failed\n",
      "reset counter\n"
     ]
    },
    {
     "name": "stdout",
     "output_type": "stream",
     "text": [
      "232458/ success\n",
      "232458/ success\n",
      "232458/ success\n",
      "232458/ success\n",
      "232458/ success\n",
      "232458/ success\n",
      "232458/ success\n",
      "232458/ success\n",
      "232458/ success\n",
      "232458/ success\n",
      "232458/ success\n"
     ]
    },
    {
     "name": "stderr",
     "output_type": "stream",
     "text": [
      "232458/ failed\n",
      "232458/ failed\n",
      "232458/ failed\n",
      "232458/ failed\n",
      "232458/ failed\n",
      "232458/ failed\n",
      "232458/ failed\n",
      "232458/ failed\n",
      "232458/ failed\n",
      "232458/ failed\n",
      "232458/ failed\n",
      "232458/ failed\n",
      "232458/ failed\n",
      "232458/ failed\n",
      "232458/ failed\n",
      "232458/ failed\n",
      "reset counter\n"
     ]
    },
    {
     "name": "stdout",
     "output_type": "stream",
     "text": [
      "232459/ success\n",
      "232459/ success\n",
      "232459/ success\n",
      "232459/ success\n",
      "232459/ success\n",
      "232459/ success\n",
      "232459/ success\n",
      "232459/ success\n",
      "232459/ success\n",
      "232459/ success\n",
      "232459/ success\n"
     ]
    },
    {
     "name": "stderr",
     "output_type": "stream",
     "text": [
      "232459/ failed\n",
      "232459/ failed\n",
      "232459/ failed\n",
      "232459/ failed\n",
      "232459/ failed\n",
      "232459/ failed\n",
      "232459/ failed\n",
      "232459/ failed\n",
      "232459/ failed\n",
      "232459/ failed\n",
      "232459/ failed\n",
      "232459/ failed\n",
      "232459/ failed\n",
      "232459/ failed\n",
      "232459/ failed\n",
      "232459/ failed\n",
      "232459/ failed\n",
      "reset counter\n"
     ]
    },
    {
     "name": "stdout",
     "output_type": "stream",
     "text": [
      "232500/ success\n",
      "232500/ success\n",
      "232500/ success\n",
      "232500/ success\n",
      "232500/ success\n",
      "232500/ success\n",
      "232500/ success\n",
      "232500/ success\n",
      "232500/ success\n",
      "232500/ success\n",
      "232500/ success\n"
     ]
    },
    {
     "name": "stderr",
     "output_type": "stream",
     "text": [
      "232500/ failed\n",
      "232500/ failed\n",
      "232500/ failed\n",
      "232500/ failed\n",
      "232500/ failed\n",
      "232500/ failed\n",
      "232500/ failed\n",
      "232500/ failed\n",
      "232500/ failed\n",
      "232500/ failed\n",
      "232500/ failed\n",
      "232500/ failed\n",
      "232500/ failed\n",
      "232500/ failed\n",
      "232500/ failed\n",
      "232500/ failed\n",
      "reset counter\n"
     ]
    },
    {
     "name": "stdout",
     "output_type": "stream",
     "text": [
      "232501/ success\n",
      "232501/ success\n",
      "232501/ success\n",
      "232501/ success\n",
      "232501/ success\n",
      "232501/ success\n",
      "232501/ success\n",
      "232501/ success\n",
      "232501/ success\n",
      "232501/ success\n",
      "232501/ success\n"
     ]
    },
    {
     "name": "stderr",
     "output_type": "stream",
     "text": [
      "232501/ failed\n",
      "232501/ failed\n",
      "232501/ failed\n",
      "232501/ failed\n",
      "232501/ failed\n",
      "232501/ failed\n",
      "232501/ failed\n",
      "232501/ failed\n",
      "232501/ failed\n",
      "232501/ failed\n",
      "232501/ failed\n",
      "232501/ failed\n",
      "232501/ failed\n",
      "232501/ failed\n",
      "232501/ failed\n",
      "232501/ failed\n",
      "reset counter\n"
     ]
    },
    {
     "name": "stdout",
     "output_type": "stream",
     "text": [
      "232502/ success\n",
      "232502/ success\n",
      "232502/ success\n",
      "232502/ success\n",
      "232502/ success\n",
      "232502/ success\n",
      "232502/ success\n",
      "232502/ success\n",
      "232502/ success\n",
      "232502/ success\n",
      "232502/ success\n"
     ]
    },
    {
     "name": "stderr",
     "output_type": "stream",
     "text": [
      "232502/ failed\n",
      "232502/ failed\n",
      "232502/ failed\n",
      "232502/ failed\n",
      "232502/ failed\n",
      "232502/ failed\n",
      "232502/ failed\n",
      "232502/ failed\n",
      "232502/ failed\n",
      "232502/ failed\n",
      "232502/ failed\n",
      "232502/ failed\n",
      "232502/ failed\n",
      "232502/ failed\n",
      "232502/ failed\n",
      "232502/ failed\n",
      "reset counter\n"
     ]
    },
    {
     "name": "stdout",
     "output_type": "stream",
     "text": [
      "232503/ success\n",
      "232503/ success\n",
      "232503/ success\n",
      "232503/ success\n",
      "232503/ success\n",
      "232503/ success\n",
      "232503/ success\n",
      "232503/ success\n",
      "232503/ success\n",
      "232503/ success\n",
      "232503/ success\n"
     ]
    },
    {
     "name": "stderr",
     "output_type": "stream",
     "text": [
      "232503/ failed\n",
      "232503/ failed\n",
      "232503/ failed\n",
      "232503/ failed\n",
      "232503/ failed\n",
      "232503/ failed\n",
      "232503/ failed\n",
      "232503/ failed\n",
      "232503/ failed\n",
      "232503/ failed\n",
      "232503/ failed\n",
      "232503/ failed\n",
      "232503/ failed\n",
      "232503/ failed\n",
      "232503/ failed\n",
      "232503/ failed\n",
      "232503/ failed\n",
      "reset counter\n"
     ]
    }
   ],
   "source": [
    "from threading import Thread, Lock\n",
    "from datetime import datetime\n",
    "import time\n",
    "import sys\n",
    "\n",
    "COUNTER_PER_SEC = 1\n",
    "REQUEST_PER_SEC = 30\n",
    "WINDOW_SIZE_SEC = 10\n",
    "\n",
    "time_window = None\n",
    "counter = 0\n",
    "\n",
    "lock = Lock()\n",
    "\n",
    "def reset_counter():\n",
    "    global counter, time_window\n",
    "    if time_window == f'{datetime.now():%H%M%S}':\n",
    "        return\n",
    "    with lock:\n",
    "        counter = 0\n",
    "        time_window = f'{datetime.now():%H%M%S}'\n",
    "        print('reset counter', file=sys.stderr)\n",
    "\n",
    "def process():\n",
    "    global counter\n",
    "    reset_counter()\n",
    "    with lock:\n",
    "        if counter >= WINDOW_SIZE_SEC:\n",
    "            return False\n",
    "        counter += 1\n",
    "        return True\n",
    "\n",
    "def request_in_sec():\n",
    "    while True:\n",
    "        time.sleep(1 / REQUEST_PER_SEC)\n",
    "        res = process()\n",
    "        if res:\n",
    "            print(f'{datetime.now():%H%M%S}/ success')\n",
    "        else:\n",
    "            print(f'{datetime.now():%H%M%S}/ failed', file=sys.stderr)\n",
    "\n",
    "            \n",
    "request_thread = Thread(target=request_in_sec)\n",
    "request_thread.start()\n"
   ]
  }
 ],
 "metadata": {
  "kernelspec": {
   "display_name": "Python 3 (ipykernel)",
   "language": "python",
   "name": "python3"
  },
  "language_info": {
   "codemirror_mode": {
    "name": "ipython",
    "version": 3
   },
   "file_extension": ".py",
   "mimetype": "text/x-python",
   "name": "python",
   "nbconvert_exporter": "python",
   "pygments_lexer": "ipython3",
   "version": "3.9.12"
  }
 },
 "nbformat": 4,
 "nbformat_minor": 5
}
